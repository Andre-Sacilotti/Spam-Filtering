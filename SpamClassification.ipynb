{
 "cells": [
  {
   "cell_type": "markdown",
   "metadata": {},
   "source": [
    "## 1. The Problem"
   ]
  },
  {
   "cell_type": "markdown",
   "metadata": {},
   "source": [
    "<p style=\"font-family:'Courier New'\"> <font size = 3>We have a new job: Create an Spam Filter, in other words, a system that detects if an email is an spam, and remove them, so lets think\n",
    "\n",
    "<p style=\"font-family:'Courier New'\"> <font size = 3>This problem will be resolved using classification, so we will work with the recall/precision concepts, but imagine, whats is the best? a system that removes an important email classifying then as spam, or a system that miss some spam? of course a system that will miss some spam emails, so our scoring will be based in the 'precision' concept\n",
    "<br><br>\n",
    "    \n",
    "<center>$Precision = \\frac{TP}{TP+FP}$</center>\n",
    "<br>\n",
    "    \n",
    "<p style=\"font-family:'Courier New'\"> <font size = 3>Okay, and what we do about the text?\n",
    "\n",
    "<p style=\"font-family:'Courier New'\"> <font size = 3>In the text, you can apply some filter, like, replace url's with the tag 'url', replace number's with 'number' text, remove ponctuation and some unecessary space, and then, apply the tfidf concept to generate an vector representing the text\n"
   ]
  },
  {
   "cell_type": "code",
   "execution_count": 223,
   "metadata": {},
   "outputs": [],
   "source": [
    "import pandas as pd\n",
    "import numpy as np\n",
    "from matplotlib import pyplot as plt\n",
    "import seaborn as sns\n",
    "from sklearn.naive_bayes import MultinomialNB\n",
    "from sklearn.feature_extraction.text import TfidfVectorizer\n",
    "import re\n",
    "from wordcloud import WordCloud, STOPWORDS \n",
    "from sklearn.metrics import accuracy_score, roc_auc_score, roc_curve\n",
    "from sklearn.model_selection import train_test_split\n",
    "from sklearn.metrics import confusion_matrix\n",
    "from sklearn.svm import SVC\n",
    "from sklearn.model_selection import GridSearchCV\n",
    "from sklearn.model_selection import RandomizedSearchCV\n",
    "from sklearn.ensemble import RandomForestClassifier\n",
    "import xgboost as xgb\n",
    "from sklearn.pipeline import Pipeline\n",
    "from sklearn.base import BaseEstimator, TransformerMixin\n",
    "import pickle"
   ]
  },
  {
   "cell_type": "markdown",
   "metadata": {},
   "source": [
    "## 2. Reading the data"
   ]
  },
  {
   "cell_type": "code",
   "execution_count": 171,
   "metadata": {},
   "outputs": [
    {
     "data": {
      "text/html": [
       "<div>\n",
       "<style scoped>\n",
       "    .dataframe tbody tr th:only-of-type {\n",
       "        vertical-align: middle;\n",
       "    }\n",
       "\n",
       "    .dataframe tbody tr th {\n",
       "        vertical-align: top;\n",
       "    }\n",
       "\n",
       "    .dataframe thead th {\n",
       "        text-align: right;\n",
       "    }\n",
       "</style>\n",
       "<table border=\"1\" class=\"dataframe\">\n",
       "  <thead>\n",
       "    <tr style=\"text-align: right;\">\n",
       "      <th></th>\n",
       "      <th>text</th>\n",
       "      <th>spam</th>\n",
       "    </tr>\n",
       "  </thead>\n",
       "  <tbody>\n",
       "    <tr>\n",
       "      <th>0</th>\n",
       "      <td>Subject: naturally irresistible your corporate...</td>\n",
       "      <td>1</td>\n",
       "    </tr>\n",
       "    <tr>\n",
       "      <th>1</th>\n",
       "      <td>Subject: the stock trading gunslinger  fanny i...</td>\n",
       "      <td>1</td>\n",
       "    </tr>\n",
       "    <tr>\n",
       "      <th>2</th>\n",
       "      <td>Subject: unbelievable new homes made easy  im ...</td>\n",
       "      <td>1</td>\n",
       "    </tr>\n",
       "    <tr>\n",
       "      <th>3</th>\n",
       "      <td>Subject: 4 color printing special  request add...</td>\n",
       "      <td>1</td>\n",
       "    </tr>\n",
       "    <tr>\n",
       "      <th>4</th>\n",
       "      <td>Subject: do not have money , get software cds ...</td>\n",
       "      <td>1</td>\n",
       "    </tr>\n",
       "  </tbody>\n",
       "</table>\n",
       "</div>"
      ],
      "text/plain": [
       "                                                text  spam\n",
       "0  Subject: naturally irresistible your corporate...     1\n",
       "1  Subject: the stock trading gunslinger  fanny i...     1\n",
       "2  Subject: unbelievable new homes made easy  im ...     1\n",
       "3  Subject: 4 color printing special  request add...     1\n",
       "4  Subject: do not have money , get software cds ...     1"
      ]
     },
     "execution_count": 171,
     "metadata": {},
     "output_type": "execute_result"
    }
   ],
   "source": [
    "df = pd.read_csv('Data/emails.csv')\n",
    "df.head()"
   ]
  },
  {
   "cell_type": "markdown",
   "metadata": {},
   "source": [
    "<p style=\"font-family:'Courier New'\"> <font size = 3>Look, our data is simple, we have the text of the email and the label, meaning spam or not, before start the modeling, we will do some preprocessing and exploratory data analysis to know our data\n"
   ]
  },
  {
   "cell_type": "markdown",
   "metadata": {},
   "source": [
    "## 3. Data Preprocessing"
   ]
  },
  {
   "cell_type": "markdown",
   "metadata": {},
   "source": [
    "<p style=\"font-family:'Courier New'\"> <font size = 3>To make an standard processing, we can work with the pipeline concept"
   ]
  },
  {
   "cell_type": "code",
   "execution_count": 301,
   "metadata": {},
   "outputs": [],
   "source": [
    "class TextClean(BaseEstimator, TransformerMixin):\n",
    "    \n",
    "    def fit(self, x, y=None):\n",
    "        return self\n",
    "    \n",
    "    def transform(self,x ,y=None):\n",
    "        x['text'] = x['text'].apply(lambda x: re.sub('[0-9]+','Number',x))\n",
    "        x['text'] = x['text'].apply(lambda x: re.sub('http : / /[\\w\\W]+. com /', 'URL', x))\n",
    "        x['text'] = x['text'].apply(lambda x: re.sub(r'[.,;$%&*@!#-=?\"]', '', x))\n",
    "        x['text'] = x['text'].apply(lambda x: re.sub(r'Subject', '', x))\n",
    "        x['text'] = x['text'].apply(lambda x: x.lower())\n",
    "        \n",
    "        return x\n",
    "\n",
    "class TextVectorization(BaseEstimator, TransformerMixin):\n",
    "    \n",
    "    def __init__(self, vect):\n",
    "        self.vectorizer = vect\n",
    "    \n",
    "    def fit(self, x, y=None):\n",
    "        return self\n",
    "    \n",
    "    def transform(self, x, y= None):\n",
    "        self.vectorizer.fit(df['text'])\n",
    "        X = self.vectorizer.transform(x['text'])\n",
    "        return X"
   ]
  },
  {
   "cell_type": "code",
   "execution_count": 302,
   "metadata": {},
   "outputs": [],
   "source": [
    "vectorizer = TfidfVectorizer(stop_words='english')\n",
    "\n",
    "\n",
    "pipeline = Pipeline([('TextClean',TextClean()),\n",
    "                     ('TextVectorization', TextVectorization(vectorizer))])"
   ]
  },
  {
   "cell_type": "code",
   "execution_count": 303,
   "metadata": {},
   "outputs": [],
   "source": [
    "X = pipeline.fit_transform(df)"
   ]
  },
  {
   "cell_type": "code",
   "execution_count": 304,
   "metadata": {},
   "outputs": [],
   "source": [
    "x_train, x_test, y_train, y_test = train_test_split(X, df['spam'], test_size= 0.2)"
   ]
  },
  {
   "cell_type": "markdown",
   "metadata": {},
   "source": [
    "## 4. Exploratory Data Analysis"
   ]
  },
  {
   "cell_type": "code",
   "execution_count": 158,
   "metadata": {},
   "outputs": [
    {
     "data": {
      "text/plain": [
       "<BarContainer object of 2 artists>"
      ]
     },
     "execution_count": 158,
     "metadata": {},
     "output_type": "execute_result"
    },
    {
     "data": {
      "image/png": "[encoded data removed]",
      "text/plain": [
       "<Figure size 432x288 with 1 Axes>"
      ]
     },
     "metadata": {
      "needs_background": "light"
     },
     "output_type": "display_data"
    }
   ],
   "source": [
    "plt.bar(x = ['Not Spam', 'Spam'], height= [ len(df[df['spam']==0]), len(df[df['spam']==1]) ], color = ['#8a8a8a','#4c9c5f'])"
   ]
  },
  {
   "cell_type": "code",
   "execution_count": 159,
   "metadata": {},
   "outputs": [
    {
     "data": {
      "text/plain": [
       "<matplotlib.image.AxesImage at 0x24312610908>"
      ]
     },
     "execution_count": 159,
     "metadata": {},
     "output_type": "execute_result"
    },
    {
     "data": {
      "image/png": "[encoded data removed]",
      "text/plain": [
       "<Figure size 720x720 with 1 Axes>"
      ]
     },
     "metadata": {
      "needs_background": "light"
     },
     "output_type": "display_data"
    }
   ],
   "source": [
    "words_spam = ''\n",
    "for msg in df[df['spam']==1]['text']:\n",
    "    msg = msg.lower()\n",
    "    if('number' in msg):\n",
    "        pass\n",
    "    else:\n",
    "        words_spam += ' ' + msg\n",
    "w = WordCloud(width=1600,height=1300,mode='RGBA',background_color='black',max_words=20).generate(words_spam)\n",
    "plt.figure(figsize=(10,10))\n",
    "plt.title('Words in SPAM Email')\n",
    "plt.imshow(w)"
   ]
  },
  {
   "cell_type": "code",
   "execution_count": 160,
   "metadata": {},
   "outputs": [
    {
     "data": {
      "text/plain": [
       "<matplotlib.image.AxesImage at 0x243126b37c8>"
      ]
     },
     "execution_count": 160,
     "metadata": {},
     "output_type": "execute_result"
    },
    {
     "data": {
      "image/png": "[encoded data removed]",
      "text/plain": [
       "<Figure size 720x720 with 1 Axes>"
      ]
     },
     "metadata": {
      "needs_background": "light"
     },
     "output_type": "display_data"
    }
   ],
   "source": [
    "words_not_spam = ''\n",
    "for msg in df[df['spam']==0]['text']:\n",
    "    msg = msg.lower()\n",
    "    if('number' in msg):\n",
    "        pass\n",
    "    else:\n",
    "        words_not_spam += ' ' + msg\n",
    "w = WordCloud(width=1600,height=1300,mode='RGBA',background_color='black',max_words=20).generate(words_not_spam)\n",
    "plt.figure(figsize=(10,10))\n",
    "plt.title('Words in NOT SPAM Email')\n",
    "plt.imshow(w)"
   ]
  },
  {
   "cell_type": "markdown",
   "metadata": {},
   "source": [
    "<p style=\"font-family:'Courier New'\"> <font size = 3>Look, we can se an pattern, in the spam emails, some words are found like free, to receive and click here, probably refering to an email offering some product, so a spam, in other hand, the normal email has words like thank you, let me know, business"
   ]
  },
  {
   "cell_type": "markdown",
   "metadata": {},
   "source": [
    "## 5. Classification Model"
   ]
  },
  {
   "cell_type": "markdown",
   "metadata": {},
   "source": [
    "### 5.1. MultinomialNB"
   ]
  },
  {
   "cell_type": "code",
   "execution_count": 99,
   "metadata": {},
   "outputs": [
    {
     "data": {
      "text/plain": [
       "MultinomialNB(alpha=1.0, class_prior=None, fit_prior=True)"
      ]
     },
     "execution_count": 99,
     "metadata": {},
     "output_type": "execute_result"
    }
   ],
   "source": [
    "MultiNB = MultinomialNB()\n",
    "\n",
    "MultiNB.fit(x_train, y_train)"
   ]
  },
  {
   "cell_type": "code",
   "execution_count": 109,
   "metadata": {},
   "outputs": [
    {
     "data": {
      "text/plain": [
       "array([[840,   1],\n",
       "       [129, 176]], dtype=int64)"
      ]
     },
     "execution_count": 109,
     "metadata": {},
     "output_type": "execute_result"
    }
   ],
   "source": [
    "y_pred = MultiNB.predict(x_test)\n",
    "confusion_matrix(y_test, y_pred)"
   ]
  },
  {
   "cell_type": "markdown",
   "metadata": {},
   "source": [
    "<p style=\"font-family:'Courier New'\"> <font size = 3>We have 840 True Negatives, 1 False positive, 129 False Negative and 176 True positive\n",
    "\n",
    "<p style=\"font-family:'Courier New'\"> <font size = 3>In other words:\n",
    "\n",
    "<p style=\"font-family:'Courier New'\"> <font size = 3>840 non spam emails was classified as non spam;\n",
    "\n",
    "<p style=\"font-family:'Courier New'\"> <font size = 3>1 was classified as spam but its not\n",
    "\n",
    "<p style=\"font-family:'Courier New'\"> <font size = 3>129 spams was classified as not spam\n",
    "\n",
    "<p style=\"font-family:'Courier New'\"> <font size = 3>176 spam email was classified correctly"
   ]
  },
  {
   "cell_type": "markdown",
   "metadata": {},
   "source": [
    "### 5.2. SVC"
   ]
  },
  {
   "cell_type": "code",
   "execution_count": 257,
   "metadata": {},
   "outputs": [
    {
     "data": {
      "text/plain": [
       "array([[881,   2],\n",
       "       [  7, 256]], dtype=int64)"
      ]
     },
     "execution_count": 257,
     "metadata": {},
     "output_type": "execute_result"
    }
   ],
   "source": [
    "svc = SVC()\n",
    "svc.fit(x_train, y_train)\n",
    "y_pred = svc.predict(x_test)\n",
    "confusion_matrix(y_test, y_pred)"
   ]
  },
  {
   "cell_type": "markdown",
   "metadata": {},
   "source": [
    "<p style=\"font-family:'Courier New'\"> <font size = 3>Look how we got better results\n",
    "\n",
    "<p style=\"font-family:'Courier New'\"> <font size = 3>we have 0 normal emails classified as spam, and now we have 13 (93% less) spam emails classified as normal email"
   ]
  },
  {
   "cell_type": "markdown",
   "metadata": {},
   "source": [
    "<p style=\"font-family:'Courier New'\"> <font size = 3>Lets do some fine tuning with gridsearch"
   ]
  },
  {
   "cell_type": "code",
   "execution_count": 224,
   "metadata": {},
   "outputs": [],
   "source": [
    "svc = SVC()\n",
    "parameters = {'kernel':('linear', 'rbf'), 'C':[1, 10], 'degree':[2,3,4]}\n",
    "clf = GridSearchCV(svc, parameters, return_train_score=True, scoring='precision', cv = 5)\n"
   ]
  },
  {
   "cell_type": "code",
   "execution_count": 225,
   "metadata": {},
   "outputs": [
    {
     "data": {
      "text/plain": [
       "GridSearchCV(cv=5, error_score=nan,\n",
       "             estimator=SVC(C=1.0, break_ties=False, cache_size=200,\n",
       "                           class_weight=None, coef0=0.0,\n",
       "                           decision_function_shape='ovr', degree=3,\n",
       "                           gamma='scale', kernel='rbf', max_iter=-1,\n",
       "                           probability=False, random_state=None, shrinking=True,\n",
       "                           tol=0.001, verbose=False),\n",
       "             iid='deprecated', n_jobs=None,\n",
       "             param_grid={'C': [1, 10], 'degree': [2, 3, 4],\n",
       "                         'kernel': ('linear', 'rbf')},\n",
       "             pre_dispatch='2*n_jobs', refit=True, return_train_score=True,\n",
       "             scoring='precision', verbose=0)"
      ]
     },
     "execution_count": 225,
     "metadata": {},
     "output_type": "execute_result"
    }
   ],
   "source": [
    "clf.fit(x_train, y_train)"
   ]
  },
  {
   "cell_type": "code",
   "execution_count": 256,
   "metadata": {},
   "outputs": [
    {
     "data": {
      "text/plain": [
       "array([[883,   0],\n",
       "       [  4, 259]], dtype=int64)"
      ]
     },
     "execution_count": 256,
     "metadata": {},
     "output_type": "execute_result"
    }
   ],
   "source": [
    "y_pred = clf.predict(x_test)\n",
    "confusion_matrix(y_test, y_pred)"
   ]
  },
  {
   "cell_type": "markdown",
   "metadata": {},
   "source": [
    "<p style=\"font-family:'Courier New'\"> <font size = 3> The fine tuning produced some better results, as we wanted 0 for false positive and reduced the number of False Negative</p>"
   ]
  },
  {
   "cell_type": "markdown",
   "metadata": {},
   "source": [
    "### 5.3. Random Forest"
   ]
  },
  {
   "cell_type": "code",
   "execution_count": 200,
   "metadata": {
    "scrolled": true
   },
   "outputs": [
    {
     "name": "stderr",
     "output_type": "stream",
     "text": [
      "[Parallel(n_jobs=1)]: Using backend SequentialBackend with 1 concurrent workers.\n",
      "[Parallel(n_jobs=1)]: Done 1000 out of 1000 | elapsed:   53.4s finished\n",
      "[Parallel(n_jobs=1)]: Using backend SequentialBackend with 1 concurrent workers.\n",
      "[Parallel(n_jobs=1)]: Done 1000 out of 1000 | elapsed:    0.7s finished\n"
     ]
    },
    {
     "data": {
      "text/plain": [
       "array([[856,   2],\n",
       "       [ 29, 259]], dtype=int64)"
      ]
     },
     "execution_count": 200,
     "metadata": {},
     "output_type": "execute_result"
    }
   ],
   "source": [
    "rf = RandomForestClassifier(n_estimators=1000, max_depth=20000, max_features = 'auto',verbose = 1, bootstrap = True)\n",
    "\n",
    "\n",
    "\n",
    "rf.fit(x_train, y_train)\n",
    "y_pred = rf.predict(x_test)\n",
    "confusion_matrix(y_test, y_pred)"
   ]
  },
  {
   "cell_type": "markdown",
   "metadata": {},
   "source": [
    "## 5.4. XGBoost"
   ]
  },
  {
   "cell_type": "code",
   "execution_count": 218,
   "metadata": {},
   "outputs": [
    {
     "name": "stdout",
     "output_type": "stream",
     "text": [
      "Fitting 5 folds for each of 135 candidates, totalling 675 fits\n"
     ]
    },
    {
     "name": "stderr",
     "output_type": "stream",
     "text": [
      "[Parallel(n_jobs=-1)]: Using backend LokyBackend with 8 concurrent workers.\n",
      "[Parallel(n_jobs=-1)]: Done  25 tasks      | elapsed:  7.9min\n",
      "[Parallel(n_jobs=-1)]: Done 146 tasks      | elapsed: 150.5min\n",
      "[Parallel(n_jobs=-1)]: Done 349 tasks      | elapsed: 345.8min\n",
      "[Parallel(n_jobs=-1)]: Done 632 tasks      | elapsed: 586.7min\n",
      "[Parallel(n_jobs=-1)]: Done 675 out of 675 | elapsed: 610.4min finished\n"
     ]
    },
    {
     "name": "stdout",
     "output_type": "stream",
     "text": [
      "[18:49:47] INFO: C:\\Users\\Administrator\\workspace\\xgboost-win64_release_1.0.0\\src\\tree\\updater_prune.cc:89: tree pruning end, 16 extra nodes, 0 pruned nodes, max_depth=5\n",
      "[18:49:47] INFO: C:\\Users\\Administrator\\workspace\\xgboost-win64_release_1.0.0\\src\\tree\\updater_prune.cc:89: tree pruning end, 16 extra nodes, 0 pruned nodes, max_depth=5\n",
      "[18:49:47] INFO: C:\\Users\\Administrator\\workspace\\xgboost-win64_release_1.0.0\\src\\tree\\updater_prune.cc:89: tree pruning end, 0 extra nodes, 0 pruned nodes, max_depth=0\n",
      "[18:49:47] INFO: C:\\Users\\Administrator\\workspace\\xgboost-win64_release_1.0.0\\src\\tree\\updater_prune.cc:89: tree pruning end, 16 extra nodes, 0 pruned nodes, max_depth=5\n",
      "[18:49:47] INFO: C:\\Users\\Administrator\\workspace\\xgboost-win64_release_1.0.0\\src\\tree\\updater_prune.cc:89: tree pruning end, 14 extra nodes, 0 pruned nodes, max_depth=5\n",
      "[18:49:47] INFO: C:\\Users\\Administrator\\workspace\\xgboost-win64_release_1.0.0\\src\\tree\\updater_prune.cc:89: tree pruning end, 0 extra nodes, 0 pruned nodes, max_depth=0\n",
      "[18:49:47] INFO: C:\\Users\\Administrator\\workspace\\xgboost-win64_release_1.0.0\\src\\tree\\updater_prune.cc:89: tree pruning end, 16 extra nodes, 0 pruned nodes, max_depth=5\n",
      "[18:49:47] INFO: C:\\Users\\Administrator\\workspace\\xgboost-win64_release_1.0.0\\src\\tree\\updater_prune.cc:89: tree pruning end, 16 extra nodes, 0 pruned nodes, max_depth=5\n",
      "[18:49:47] INFO: C:\\Users\\Administrator\\workspace\\xgboost-win64_release_1.0.0\\src\\tree\\updater_prune.cc:89: tree pruning end, 0 extra nodes, 0 pruned nodes, max_depth=0\n",
      "[18:49:48] INFO: C:\\Users\\Administrator\\workspace\\xgboost-win64_release_1.0.0\\src\\tree\\updater_prune.cc:89: tree pruning end, 24 extra nodes, 0 pruned nodes, max_depth=5\n",
      "[18:49:48] INFO: C:\\Users\\Administrator\\workspace\\xgboost-win64_release_1.0.0\\src\\tree\\updater_prune.cc:89: tree pruning end, 16 extra nodes, 0 pruned nodes, max_depth=5\n",
      "[18:49:48] INFO: C:\\Users\\Administrator\\workspace\\xgboost-win64_release_1.0.0\\src\\tree\\updater_prune.cc:89: tree pruning end, 0 extra nodes, 0 pruned nodes, max_depth=0\n",
      "[18:49:48] INFO: C:\\Users\\Administrator\\workspace\\xgboost-win64_release_1.0.0\\src\\tree\\updater_prune.cc:89: tree pruning end, 24 extra nodes, 0 pruned nodes, max_depth=5\n",
      "[18:49:48] INFO: C:\\Users\\Administrator\\workspace\\xgboost-win64_release_1.0.0\\src\\tree\\updater_prune.cc:89: tree pruning end, 12 extra nodes, 0 pruned nodes, max_depth=5\n",
      "[18:49:48] INFO: C:\\Users\\Administrator\\workspace\\xgboost-win64_release_1.0.0\\src\\tree\\updater_prune.cc:89: tree pruning end, 0 extra nodes, 0 pruned nodes, max_depth=0\n",
      "[18:49:48] INFO: C:\\Users\\Administrator\\workspace\\xgboost-win64_release_1.0.0\\src\\tree\\updater_prune.cc:89: tree pruning end, 24 extra nodes, 0 pruned nodes, max_depth=5\n",
      "[18:49:48] INFO: C:\\Users\\Administrator\\workspace\\xgboost-win64_release_1.0.0\\src\\tree\\updater_prune.cc:89: tree pruning end, 32 extra nodes, 0 pruned nodes, max_depth=5\n",
      "[18:49:48] INFO: C:\\Users\\Administrator\\workspace\\xgboost-win64_release_1.0.0\\src\\tree\\updater_prune.cc:89: tree pruning end, 0 extra nodes, 0 pruned nodes, max_depth=0\n",
      "[18:49:48] INFO: C:\\Users\\Administrator\\workspace\\xgboost-win64_release_1.0.0\\src\\tree\\updater_prune.cc:89: tree pruning end, 20 extra nodes, 0 pruned nodes, max_depth=5\n",
      "[18:49:48] INFO: C:\\Users\\Administrator\\workspace\\xgboost-win64_release_1.0.0\\src\\tree\\updater_prune.cc:89: tree pruning end, 16 extra nodes, 0 pruned nodes, max_depth=5\n",
      "[18:49:49] INFO: C:\\Users\\Administrator\\workspace\\xgboost-win64_release_1.0.0\\src\\tree\\updater_prune.cc:89: tree pruning end, 0 extra nodes, 0 pruned nodes, max_depth=0\n",
      "[18:49:49] INFO: C:\\Users\\Administrator\\workspace\\xgboost-win64_release_1.0.0\\src\\tree\\updater_prune.cc:89: tree pruning end, 16 extra nodes, 0 pruned nodes, max_depth=5\n",
      "[18:49:49] INFO: C:\\Users\\Administrator\\workspace\\xgboost-win64_release_1.0.0\\src\\tree\\updater_prune.cc:89: tree pruning end, 16 extra nodes, 0 pruned nodes, max_depth=5\n",
      "[18:49:49] INFO: C:\\Users\\Administrator\\workspace\\xgboost-win64_release_1.0.0\\src\\tree\\updater_prune.cc:89: tree pruning end, 0 extra nodes, 0 pruned nodes, max_depth=0\n",
      "[18:49:49] INFO: C:\\Users\\Administrator\\workspace\\xgboost-win64_release_1.0.0\\src\\tree\\updater_prune.cc:89: tree pruning end, 24 extra nodes, 0 pruned nodes, max_depth=5\n",
      "[18:49:49] INFO: C:\\Users\\Administrator\\workspace\\xgboost-win64_release_1.0.0\\src\\tree\\updater_prune.cc:89: tree pruning end, 22 extra nodes, 0 pruned nodes, max_depth=5\n",
      "[18:49:49] INFO: C:\\Users\\Administrator\\workspace\\xgboost-win64_release_1.0.0\\src\\tree\\updater_prune.cc:89: tree pruning end, 0 extra nodes, 0 pruned nodes, max_depth=0\n",
      "[18:49:49] INFO: C:\\Users\\Administrator\\workspace\\xgboost-win64_release_1.0.0\\src\\tree\\updater_prune.cc:89: tree pruning end, 18 extra nodes, 0 pruned nodes, max_depth=5\n",
      "[18:49:49] INFO: C:\\Users\\Administrator\\workspace\\xgboost-win64_release_1.0.0\\src\\tree\\updater_prune.cc:89: tree pruning end, 18 extra nodes, 0 pruned nodes, max_depth=5\n",
      "[18:49:49] INFO: C:\\Users\\Administrator\\workspace\\xgboost-win64_release_1.0.0\\src\\tree\\updater_prune.cc:89: tree pruning end, 0 extra nodes, 0 pruned nodes, max_depth=0\n",
      "[18:49:49] INFO: C:\\Users\\Administrator\\workspace\\xgboost-win64_release_1.0.0\\src\\tree\\updater_prune.cc:89: tree pruning end, 20 extra nodes, 0 pruned nodes, max_depth=5\n",
      "[18:49:49] INFO: C:\\Users\\Administrator\\workspace\\xgboost-win64_release_1.0.0\\src\\tree\\updater_prune.cc:89: tree pruning end, 36 extra nodes, 0 pruned nodes, max_depth=5\n",
      "[18:49:50] INFO: C:\\Users\\Administrator\\workspace\\xgboost-win64_release_1.0.0\\src\\tree\\updater_prune.cc:89: tree pruning end, 0 extra nodes, 0 pruned nodes, max_depth=0\n",
      "[18:49:50] INFO: C:\\Users\\Administrator\\workspace\\xgboost-win64_release_1.0.0\\src\\tree\\updater_prune.cc:89: tree pruning end, 16 extra nodes, 0 pruned nodes, max_depth=5\n",
      "[18:49:50] INFO: C:\\Users\\Administrator\\workspace\\xgboost-win64_release_1.0.0\\src\\tree\\updater_prune.cc:89: tree pruning end, 16 extra nodes, 0 pruned nodes, max_depth=5\n",
      "[18:49:50] INFO: C:\\Users\\Administrator\\workspace\\xgboost-win64_release_1.0.0\\src\\tree\\updater_prune.cc:89: tree pruning end, 0 extra nodes, 0 pruned nodes, max_depth=0\n",
      "[18:49:50] INFO: C:\\Users\\Administrator\\workspace\\xgboost-win64_release_1.0.0\\src\\tree\\updater_prune.cc:89: tree pruning end, 22 extra nodes, 0 pruned nodes, max_depth=5\n",
      "[18:49:50] INFO: C:\\Users\\Administrator\\workspace\\xgboost-win64_release_1.0.0\\src\\tree\\updater_prune.cc:89: tree pruning end, 22 extra nodes, 0 pruned nodes, max_depth=5\n",
      "[18:49:50] INFO: C:\\Users\\Administrator\\workspace\\xgboost-win64_release_1.0.0\\src\\tree\\updater_prune.cc:89: tree pruning end, 0 extra nodes, 0 pruned nodes, max_depth=0\n",
      "[18:49:50] INFO: C:\\Users\\Administrator\\workspace\\xgboost-win64_release_1.0.0\\src\\tree\\updater_prune.cc:89: tree pruning end, 26 extra nodes, 0 pruned nodes, max_depth=5\n",
      "[18:49:50] INFO: C:\\Users\\Administrator\\workspace\\xgboost-win64_release_1.0.0\\src\\tree\\updater_prune.cc:89: tree pruning end, 14 extra nodes, 0 pruned nodes, max_depth=5\n",
      "[18:49:50] INFO: C:\\Users\\Administrator\\workspace\\xgboost-win64_release_1.0.0\\src\\tree\\updater_prune.cc:89: tree pruning end, 0 extra nodes, 0 pruned nodes, max_depth=0\n",
      "[18:49:50] INFO: C:\\Users\\Administrator\\workspace\\xgboost-win64_release_1.0.0\\src\\tree\\updater_prune.cc:89: tree pruning end, 14 extra nodes, 0 pruned nodes, max_depth=5\n",
      "[18:49:50] INFO: C:\\Users\\Administrator\\workspace\\xgboost-win64_release_1.0.0\\src\\tree\\updater_prune.cc:89: tree pruning end, 14 extra nodes, 0 pruned nodes, max_depth=5\n",
      "[18:49:51] INFO: C:\\Users\\Administrator\\workspace\\xgboost-win64_release_1.0.0\\src\\tree\\updater_prune.cc:89: tree pruning end, 0 extra nodes, 0 pruned nodes, max_depth=0\n",
      "[18:49:51] INFO: C:\\Users\\Administrator\\workspace\\xgboost-win64_release_1.0.0\\src\\tree\\updater_prune.cc:89: tree pruning end, 22 extra nodes, 0 pruned nodes, max_depth=5\n",
      "[18:49:51] INFO: C:\\Users\\Administrator\\workspace\\xgboost-win64_release_1.0.0\\src\\tree\\updater_prune.cc:89: tree pruning end, 26 extra nodes, 0 pruned nodes, max_depth=5\n",
      "[18:49:51] INFO: C:\\Users\\Administrator\\workspace\\xgboost-win64_release_1.0.0\\src\\tree\\updater_prune.cc:89: tree pruning end, 0 extra nodes, 0 pruned nodes, max_depth=0\n",
      "[18:49:51] INFO: C:\\Users\\Administrator\\workspace\\xgboost-win64_release_1.0.0\\src\\tree\\updater_prune.cc:89: tree pruning end, 24 extra nodes, 0 pruned nodes, max_depth=5\n",
      "[18:49:51] INFO: C:\\Users\\Administrator\\workspace\\xgboost-win64_release_1.0.0\\src\\tree\\updater_prune.cc:89: tree pruning end, 24 extra nodes, 0 pruned nodes, max_depth=5\n",
      "[18:49:51] INFO: C:\\Users\\Administrator\\workspace\\xgboost-win64_release_1.0.0\\src\\tree\\updater_prune.cc:89: tree pruning end, 0 extra nodes, 0 pruned nodes, max_depth=0\n"
     ]
    },
    {
     "name": "stdout",
     "output_type": "stream",
     "text": [
      "[18:49:51] INFO: C:\\Users\\Administrator\\workspace\\xgboost-win64_release_1.0.0\\src\\tree\\updater_prune.cc:89: tree pruning end, 22 extra nodes, 0 pruned nodes, max_depth=5\n",
      "[18:49:51] INFO: C:\\Users\\Administrator\\workspace\\xgboost-win64_release_1.0.0\\src\\tree\\updater_prune.cc:89: tree pruning end, 24 extra nodes, 0 pruned nodes, max_depth=5\n",
      "[18:49:51] INFO: C:\\Users\\Administrator\\workspace\\xgboost-win64_release_1.0.0\\src\\tree\\updater_prune.cc:89: tree pruning end, 0 extra nodes, 0 pruned nodes, max_depth=0\n",
      "[18:49:51] INFO: C:\\Users\\Administrator\\workspace\\xgboost-win64_release_1.0.0\\src\\tree\\updater_prune.cc:89: tree pruning end, 12 extra nodes, 0 pruned nodes, max_depth=5\n",
      "[18:49:51] INFO: C:\\Users\\Administrator\\workspace\\xgboost-win64_release_1.0.0\\src\\tree\\updater_prune.cc:89: tree pruning end, 24 extra nodes, 0 pruned nodes, max_depth=5\n",
      "[18:49:52] INFO: C:\\Users\\Administrator\\workspace\\xgboost-win64_release_1.0.0\\src\\tree\\updater_prune.cc:89: tree pruning end, 0 extra nodes, 0 pruned nodes, max_depth=0\n",
      "[18:49:52] INFO: C:\\Users\\Administrator\\workspace\\xgboost-win64_release_1.0.0\\src\\tree\\updater_prune.cc:89: tree pruning end, 14 extra nodes, 0 pruned nodes, max_depth=5\n",
      "[18:49:52] INFO: C:\\Users\\Administrator\\workspace\\xgboost-win64_release_1.0.0\\src\\tree\\updater_prune.cc:89: tree pruning end, 14 extra nodes, 0 pruned nodes, max_depth=5\n",
      "[18:49:52] INFO: C:\\Users\\Administrator\\workspace\\xgboost-win64_release_1.0.0\\src\\tree\\updater_prune.cc:89: tree pruning end, 0 extra nodes, 0 pruned nodes, max_depth=0\n",
      "[18:49:52] INFO: C:\\Users\\Administrator\\workspace\\xgboost-win64_release_1.0.0\\src\\tree\\updater_prune.cc:89: tree pruning end, 18 extra nodes, 0 pruned nodes, max_depth=5\n",
      "[18:49:52] INFO: C:\\Users\\Administrator\\workspace\\xgboost-win64_release_1.0.0\\src\\tree\\updater_prune.cc:89: tree pruning end, 18 extra nodes, 0 pruned nodes, max_depth=5\n",
      "[18:49:52] INFO: C:\\Users\\Administrator\\workspace\\xgboost-win64_release_1.0.0\\src\\tree\\updater_prune.cc:89: tree pruning end, 0 extra nodes, 0 pruned nodes, max_depth=0\n",
      "[18:49:52] INFO: C:\\Users\\Administrator\\workspace\\xgboost-win64_release_1.0.0\\src\\tree\\updater_prune.cc:89: tree pruning end, 24 extra nodes, 0 pruned nodes, max_depth=5\n",
      "[18:49:52] INFO: C:\\Users\\Administrator\\workspace\\xgboost-win64_release_1.0.0\\src\\tree\\updater_prune.cc:89: tree pruning end, 24 extra nodes, 0 pruned nodes, max_depth=5\n",
      "[18:49:52] INFO: C:\\Users\\Administrator\\workspace\\xgboost-win64_release_1.0.0\\src\\tree\\updater_prune.cc:89: tree pruning end, 0 extra nodes, 0 pruned nodes, max_depth=0\n",
      "[18:49:52] INFO: C:\\Users\\Administrator\\workspace\\xgboost-win64_release_1.0.0\\src\\tree\\updater_prune.cc:89: tree pruning end, 12 extra nodes, 0 pruned nodes, max_depth=5\n",
      "[18:49:52] INFO: C:\\Users\\Administrator\\workspace\\xgboost-win64_release_1.0.0\\src\\tree\\updater_prune.cc:89: tree pruning end, 12 extra nodes, 0 pruned nodes, max_depth=5\n",
      "[18:49:52] INFO: C:\\Users\\Administrator\\workspace\\xgboost-win64_release_1.0.0\\src\\tree\\updater_prune.cc:89: tree pruning end, 0 extra nodes, 0 pruned nodes, max_depth=0\n",
      "[18:49:53] INFO: C:\\Users\\Administrator\\workspace\\xgboost-win64_release_1.0.0\\src\\tree\\updater_prune.cc:89: tree pruning end, 14 extra nodes, 0 pruned nodes, max_depth=5\n",
      "[18:49:53] INFO: C:\\Users\\Administrator\\workspace\\xgboost-win64_release_1.0.0\\src\\tree\\updater_prune.cc:89: tree pruning end, 14 extra nodes, 0 pruned nodes, max_depth=5\n",
      "[18:49:53] INFO: C:\\Users\\Administrator\\workspace\\xgboost-win64_release_1.0.0\\src\\tree\\updater_prune.cc:89: tree pruning end, 0 extra nodes, 0 pruned nodes, max_depth=0\n",
      "[18:49:53] INFO: C:\\Users\\Administrator\\workspace\\xgboost-win64_release_1.0.0\\src\\tree\\updater_prune.cc:89: tree pruning end, 20 extra nodes, 0 pruned nodes, max_depth=5\n",
      "[18:49:53] INFO: C:\\Users\\Administrator\\workspace\\xgboost-win64_release_1.0.0\\src\\tree\\updater_prune.cc:89: tree pruning end, 20 extra nodes, 0 pruned nodes, max_depth=5\n",
      "[18:49:53] INFO: C:\\Users\\Administrator\\workspace\\xgboost-win64_release_1.0.0\\src\\tree\\updater_prune.cc:89: tree pruning end, 0 extra nodes, 0 pruned nodes, max_depth=0\n",
      "[18:49:53] INFO: C:\\Users\\Administrator\\workspace\\xgboost-win64_release_1.0.0\\src\\tree\\updater_prune.cc:89: tree pruning end, 14 extra nodes, 0 pruned nodes, max_depth=5\n",
      "[18:49:53] INFO: C:\\Users\\Administrator\\workspace\\xgboost-win64_release_1.0.0\\src\\tree\\updater_prune.cc:89: tree pruning end, 18 extra nodes, 0 pruned nodes, max_depth=5\n",
      "[18:49:53] INFO: C:\\Users\\Administrator\\workspace\\xgboost-win64_release_1.0.0\\src\\tree\\updater_prune.cc:89: tree pruning end, 0 extra nodes, 0 pruned nodes, max_depth=0\n",
      "[18:49:53] INFO: C:\\Users\\Administrator\\workspace\\xgboost-win64_release_1.0.0\\src\\tree\\updater_prune.cc:89: tree pruning end, 14 extra nodes, 0 pruned nodes, max_depth=5\n",
      "[18:49:53] INFO: C:\\Users\\Administrator\\workspace\\xgboost-win64_release_1.0.0\\src\\tree\\updater_prune.cc:89: tree pruning end, 12 extra nodes, 0 pruned nodes, max_depth=5\n",
      "[18:49:53] INFO: C:\\Users\\Administrator\\workspace\\xgboost-win64_release_1.0.0\\src\\tree\\updater_prune.cc:89: tree pruning end, 0 extra nodes, 0 pruned nodes, max_depth=0\n",
      "[18:49:54] INFO: C:\\Users\\Administrator\\workspace\\xgboost-win64_release_1.0.0\\src\\tree\\updater_prune.cc:89: tree pruning end, 12 extra nodes, 0 pruned nodes, max_depth=5\n",
      "[18:49:54] INFO: C:\\Users\\Administrator\\workspace\\xgboost-win64_release_1.0.0\\src\\tree\\updater_prune.cc:89: tree pruning end, 12 extra nodes, 0 pruned nodes, max_depth=5\n",
      "[18:49:54] INFO: C:\\Users\\Administrator\\workspace\\xgboost-win64_release_1.0.0\\src\\tree\\updater_prune.cc:89: tree pruning end, 0 extra nodes, 0 pruned nodes, max_depth=0\n",
      "[18:49:54] INFO: C:\\Users\\Administrator\\workspace\\xgboost-win64_release_1.0.0\\src\\tree\\updater_prune.cc:89: tree pruning end, 16 extra nodes, 0 pruned nodes, max_depth=5\n",
      "[18:49:54] INFO: C:\\Users\\Administrator\\workspace\\xgboost-win64_release_1.0.0\\src\\tree\\updater_prune.cc:89: tree pruning end, 12 extra nodes, 0 pruned nodes, max_depth=5\n",
      "[18:49:54] INFO: C:\\Users\\Administrator\\workspace\\xgboost-win64_release_1.0.0\\src\\tree\\updater_prune.cc:89: tree pruning end, 0 extra nodes, 0 pruned nodes, max_depth=0\n",
      "[18:49:54] INFO: C:\\Users\\Administrator\\workspace\\xgboost-win64_release_1.0.0\\src\\tree\\updater_prune.cc:89: tree pruning end, 12 extra nodes, 0 pruned nodes, max_depth=5\n",
      "[18:49:54] INFO: C:\\Users\\Administrator\\workspace\\xgboost-win64_release_1.0.0\\src\\tree\\updater_prune.cc:89: tree pruning end, 12 extra nodes, 0 pruned nodes, max_depth=5\n",
      "[18:49:54] INFO: C:\\Users\\Administrator\\workspace\\xgboost-win64_release_1.0.0\\src\\tree\\updater_prune.cc:89: tree pruning end, 0 extra nodes, 0 pruned nodes, max_depth=0\n",
      "[18:49:54] INFO: C:\\Users\\Administrator\\workspace\\xgboost-win64_release_1.0.0\\src\\tree\\updater_prune.cc:89: tree pruning end, 10 extra nodes, 0 pruned nodes, max_depth=5\n",
      "[18:49:54] INFO: C:\\Users\\Administrator\\workspace\\xgboost-win64_release_1.0.0\\src\\tree\\updater_prune.cc:89: tree pruning end, 14 extra nodes, 0 pruned nodes, max_depth=5\n",
      "[18:49:54] INFO: C:\\Users\\Administrator\\workspace\\xgboost-win64_release_1.0.0\\src\\tree\\updater_prune.cc:89: tree pruning end, 0 extra nodes, 0 pruned nodes, max_depth=0\n",
      "[18:49:55] INFO: C:\\Users\\Administrator\\workspace\\xgboost-win64_release_1.0.0\\src\\tree\\updater_prune.cc:89: tree pruning end, 16 extra nodes, 0 pruned nodes, max_depth=5\n",
      "[18:49:55] INFO: C:\\Users\\Administrator\\workspace\\xgboost-win64_release_1.0.0\\src\\tree\\updater_prune.cc:89: tree pruning end, 16 extra nodes, 0 pruned nodes, max_depth=5\n",
      "[18:49:55] INFO: C:\\Users\\Administrator\\workspace\\xgboost-win64_release_1.0.0\\src\\tree\\updater_prune.cc:89: tree pruning end, 0 extra nodes, 0 pruned nodes, max_depth=0\n",
      "[18:49:55] INFO: C:\\Users\\Administrator\\workspace\\xgboost-win64_release_1.0.0\\src\\tree\\updater_prune.cc:89: tree pruning end, 14 extra nodes, 0 pruned nodes, max_depth=5\n",
      "[18:49:55] INFO: C:\\Users\\Administrator\\workspace\\xgboost-win64_release_1.0.0\\src\\tree\\updater_prune.cc:89: tree pruning end, 14 extra nodes, 0 pruned nodes, max_depth=5\n",
      "[18:49:55] INFO: C:\\Users\\Administrator\\workspace\\xgboost-win64_release_1.0.0\\src\\tree\\updater_prune.cc:89: tree pruning end, 0 extra nodes, 0 pruned nodes, max_depth=0\n",
      "[18:49:55] INFO: C:\\Users\\Administrator\\workspace\\xgboost-win64_release_1.0.0\\src\\tree\\updater_prune.cc:89: tree pruning end, 18 extra nodes, 0 pruned nodes, max_depth=5\n",
      "[18:49:55] INFO: C:\\Users\\Administrator\\workspace\\xgboost-win64_release_1.0.0\\src\\tree\\updater_prune.cc:89: tree pruning end, 18 extra nodes, 0 pruned nodes, max_depth=5\n",
      "[18:49:55] INFO: C:\\Users\\Administrator\\workspace\\xgboost-win64_release_1.0.0\\src\\tree\\updater_prune.cc:89: tree pruning end, 0 extra nodes, 0 pruned nodes, max_depth=0\n"
     ]
    },
    {
     "name": "stdout",
     "output_type": "stream",
     "text": [
      "[18:49:55] INFO: C:\\Users\\Administrator\\workspace\\xgboost-win64_release_1.0.0\\src\\tree\\updater_prune.cc:89: tree pruning end, 14 extra nodes, 0 pruned nodes, max_depth=5\n",
      "[18:49:55] INFO: C:\\Users\\Administrator\\workspace\\xgboost-win64_release_1.0.0\\src\\tree\\updater_prune.cc:89: tree pruning end, 14 extra nodes, 0 pruned nodes, max_depth=5\n",
      "[18:49:55] INFO: C:\\Users\\Administrator\\workspace\\xgboost-win64_release_1.0.0\\src\\tree\\updater_prune.cc:89: tree pruning end, 0 extra nodes, 0 pruned nodes, max_depth=0\n",
      "[18:49:56] INFO: C:\\Users\\Administrator\\workspace\\xgboost-win64_release_1.0.0\\src\\tree\\updater_prune.cc:89: tree pruning end, 20 extra nodes, 0 pruned nodes, max_depth=5\n",
      "[18:49:56] INFO: C:\\Users\\Administrator\\workspace\\xgboost-win64_release_1.0.0\\src\\tree\\updater_prune.cc:89: tree pruning end, 20 extra nodes, 0 pruned nodes, max_depth=5\n",
      "[18:49:56] INFO: C:\\Users\\Administrator\\workspace\\xgboost-win64_release_1.0.0\\src\\tree\\updater_prune.cc:89: tree pruning end, 0 extra nodes, 0 pruned nodes, max_depth=0\n",
      "[18:49:56] INFO: C:\\Users\\Administrator\\workspace\\xgboost-win64_release_1.0.0\\src\\tree\\updater_prune.cc:89: tree pruning end, 14 extra nodes, 0 pruned nodes, max_depth=5\n",
      "[18:49:56] INFO: C:\\Users\\Administrator\\workspace\\xgboost-win64_release_1.0.0\\src\\tree\\updater_prune.cc:89: tree pruning end, 14 extra nodes, 0 pruned nodes, max_depth=5\n",
      "[18:49:56] INFO: C:\\Users\\Administrator\\workspace\\xgboost-win64_release_1.0.0\\src\\tree\\updater_prune.cc:89: tree pruning end, 0 extra nodes, 0 pruned nodes, max_depth=0\n",
      "[18:49:56] INFO: C:\\Users\\Administrator\\workspace\\xgboost-win64_release_1.0.0\\src\\tree\\updater_prune.cc:89: tree pruning end, 10 extra nodes, 0 pruned nodes, max_depth=5\n",
      "[18:49:56] INFO: C:\\Users\\Administrator\\workspace\\xgboost-win64_release_1.0.0\\src\\tree\\updater_prune.cc:89: tree pruning end, 10 extra nodes, 0 pruned nodes, max_depth=5\n",
      "[18:49:56] INFO: C:\\Users\\Administrator\\workspace\\xgboost-win64_release_1.0.0\\src\\tree\\updater_prune.cc:89: tree pruning end, 0 extra nodes, 0 pruned nodes, max_depth=0\n",
      "[18:49:56] INFO: C:\\Users\\Administrator\\workspace\\xgboost-win64_release_1.0.0\\src\\tree\\updater_prune.cc:89: tree pruning end, 14 extra nodes, 0 pruned nodes, max_depth=5\n",
      "[18:49:56] INFO: C:\\Users\\Administrator\\workspace\\xgboost-win64_release_1.0.0\\src\\tree\\updater_prune.cc:89: tree pruning end, 12 extra nodes, 0 pruned nodes, max_depth=5\n",
      "[18:49:56] INFO: C:\\Users\\Administrator\\workspace\\xgboost-win64_release_1.0.0\\src\\tree\\updater_prune.cc:89: tree pruning end, 0 extra nodes, 0 pruned nodes, max_depth=0\n",
      "[18:49:57] INFO: C:\\Users\\Administrator\\workspace\\xgboost-win64_release_1.0.0\\src\\tree\\updater_prune.cc:89: tree pruning end, 10 extra nodes, 0 pruned nodes, max_depth=5\n",
      "[18:49:57] INFO: C:\\Users\\Administrator\\workspace\\xgboost-win64_release_1.0.0\\src\\tree\\updater_prune.cc:89: tree pruning end, 10 extra nodes, 0 pruned nodes, max_depth=5\n",
      "[18:49:57] INFO: C:\\Users\\Administrator\\workspace\\xgboost-win64_release_1.0.0\\src\\tree\\updater_prune.cc:89: tree pruning end, 0 extra nodes, 0 pruned nodes, max_depth=0\n",
      "[18:49:57] INFO: C:\\Users\\Administrator\\workspace\\xgboost-win64_release_1.0.0\\src\\tree\\updater_prune.cc:89: tree pruning end, 14 extra nodes, 0 pruned nodes, max_depth=5\n",
      "[18:49:57] INFO: C:\\Users\\Administrator\\workspace\\xgboost-win64_release_1.0.0\\src\\tree\\updater_prune.cc:89: tree pruning end, 14 extra nodes, 0 pruned nodes, max_depth=5\n",
      "[18:49:57] INFO: C:\\Users\\Administrator\\workspace\\xgboost-win64_release_1.0.0\\src\\tree\\updater_prune.cc:89: tree pruning end, 0 extra nodes, 0 pruned nodes, max_depth=0\n",
      "[18:49:57] INFO: C:\\Users\\Administrator\\workspace\\xgboost-win64_release_1.0.0\\src\\tree\\updater_prune.cc:89: tree pruning end, 12 extra nodes, 0 pruned nodes, max_depth=5\n",
      "[18:49:57] INFO: C:\\Users\\Administrator\\workspace\\xgboost-win64_release_1.0.0\\src\\tree\\updater_prune.cc:89: tree pruning end, 12 extra nodes, 0 pruned nodes, max_depth=5\n",
      "[18:49:57] INFO: C:\\Users\\Administrator\\workspace\\xgboost-win64_release_1.0.0\\src\\tree\\updater_prune.cc:89: tree pruning end, 0 extra nodes, 0 pruned nodes, max_depth=0\n",
      "[18:49:57] INFO: C:\\Users\\Administrator\\workspace\\xgboost-win64_release_1.0.0\\src\\tree\\updater_prune.cc:89: tree pruning end, 12 extra nodes, 0 pruned nodes, max_depth=5\n",
      "[18:49:57] INFO: C:\\Users\\Administrator\\workspace\\xgboost-win64_release_1.0.0\\src\\tree\\updater_prune.cc:89: tree pruning end, 12 extra nodes, 0 pruned nodes, max_depth=5\n",
      "[18:49:57] INFO: C:\\Users\\Administrator\\workspace\\xgboost-win64_release_1.0.0\\src\\tree\\updater_prune.cc:89: tree pruning end, 0 extra nodes, 0 pruned nodes, max_depth=0\n",
      "[18:49:58] INFO: C:\\Users\\Administrator\\workspace\\xgboost-win64_release_1.0.0\\src\\tree\\updater_prune.cc:89: tree pruning end, 10 extra nodes, 0 pruned nodes, max_depth=5\n",
      "[18:49:58] INFO: C:\\Users\\Administrator\\workspace\\xgboost-win64_release_1.0.0\\src\\tree\\updater_prune.cc:89: tree pruning end, 10 extra nodes, 0 pruned nodes, max_depth=5\n",
      "[18:49:58] INFO: C:\\Users\\Administrator\\workspace\\xgboost-win64_release_1.0.0\\src\\tree\\updater_prune.cc:89: tree pruning end, 0 extra nodes, 0 pruned nodes, max_depth=0\n",
      "[18:49:58] INFO: C:\\Users\\Administrator\\workspace\\xgboost-win64_release_1.0.0\\src\\tree\\updater_prune.cc:89: tree pruning end, 16 extra nodes, 0 pruned nodes, max_depth=5\n",
      "[18:49:58] INFO: C:\\Users\\Administrator\\workspace\\xgboost-win64_release_1.0.0\\src\\tree\\updater_prune.cc:89: tree pruning end, 16 extra nodes, 0 pruned nodes, max_depth=5\n",
      "[18:49:58] INFO: C:\\Users\\Administrator\\workspace\\xgboost-win64_release_1.0.0\\src\\tree\\updater_prune.cc:89: tree pruning end, 0 extra nodes, 0 pruned nodes, max_depth=0\n",
      "[18:49:58] INFO: C:\\Users\\Administrator\\workspace\\xgboost-win64_release_1.0.0\\src\\tree\\updater_prune.cc:89: tree pruning end, 16 extra nodes, 0 pruned nodes, max_depth=5\n",
      "[18:49:58] INFO: C:\\Users\\Administrator\\workspace\\xgboost-win64_release_1.0.0\\src\\tree\\updater_prune.cc:89: tree pruning end, 16 extra nodes, 0 pruned nodes, max_depth=5\n",
      "[18:49:58] INFO: C:\\Users\\Administrator\\workspace\\xgboost-win64_release_1.0.0\\src\\tree\\updater_prune.cc:89: tree pruning end, 0 extra nodes, 0 pruned nodes, max_depth=0\n",
      "[18:49:58] INFO: C:\\Users\\Administrator\\workspace\\xgboost-win64_release_1.0.0\\src\\tree\\updater_prune.cc:89: tree pruning end, 12 extra nodes, 0 pruned nodes, max_depth=5\n",
      "[18:49:58] INFO: C:\\Users\\Administrator\\workspace\\xgboost-win64_release_1.0.0\\src\\tree\\updater_prune.cc:89: tree pruning end, 12 extra nodes, 0 pruned nodes, max_depth=5\n",
      "[18:49:58] INFO: C:\\Users\\Administrator\\workspace\\xgboost-win64_release_1.0.0\\src\\tree\\updater_prune.cc:89: tree pruning end, 0 extra nodes, 0 pruned nodes, max_depth=0\n",
      "[18:49:59] INFO: C:\\Users\\Administrator\\workspace\\xgboost-win64_release_1.0.0\\src\\tree\\updater_prune.cc:89: tree pruning end, 14 extra nodes, 0 pruned nodes, max_depth=5\n",
      "[18:49:59] INFO: C:\\Users\\Administrator\\workspace\\xgboost-win64_release_1.0.0\\src\\tree\\updater_prune.cc:89: tree pruning end, 14 extra nodes, 0 pruned nodes, max_depth=5\n",
      "[18:49:59] INFO: C:\\Users\\Administrator\\workspace\\xgboost-win64_release_1.0.0\\src\\tree\\updater_prune.cc:89: tree pruning end, 0 extra nodes, 0 pruned nodes, max_depth=0\n",
      "[18:49:59] INFO: C:\\Users\\Administrator\\workspace\\xgboost-win64_release_1.0.0\\src\\tree\\updater_prune.cc:89: tree pruning end, 14 extra nodes, 0 pruned nodes, max_depth=5\n",
      "[18:49:59] INFO: C:\\Users\\Administrator\\workspace\\xgboost-win64_release_1.0.0\\src\\tree\\updater_prune.cc:89: tree pruning end, 14 extra nodes, 0 pruned nodes, max_depth=5\n",
      "[18:49:59] INFO: C:\\Users\\Administrator\\workspace\\xgboost-win64_release_1.0.0\\src\\tree\\updater_prune.cc:89: tree pruning end, 0 extra nodes, 0 pruned nodes, max_depth=0\n",
      "[18:49:59] INFO: C:\\Users\\Administrator\\workspace\\xgboost-win64_release_1.0.0\\src\\tree\\updater_prune.cc:89: tree pruning end, 18 extra nodes, 0 pruned nodes, max_depth=5\n",
      "[18:49:59] INFO: C:\\Users\\Administrator\\workspace\\xgboost-win64_release_1.0.0\\src\\tree\\updater_prune.cc:89: tree pruning end, 20 extra nodes, 0 pruned nodes, max_depth=5\n",
      "[18:49:59] INFO: C:\\Users\\Administrator\\workspace\\xgboost-win64_release_1.0.0\\src\\tree\\updater_prune.cc:89: tree pruning end, 0 extra nodes, 0 pruned nodes, max_depth=0\n",
      "[18:49:59] INFO: C:\\Users\\Administrator\\workspace\\xgboost-win64_release_1.0.0\\src\\tree\\updater_prune.cc:89: tree pruning end, 14 extra nodes, 0 pruned nodes, max_depth=5\n",
      "[18:49:59] INFO: C:\\Users\\Administrator\\workspace\\xgboost-win64_release_1.0.0\\src\\tree\\updater_prune.cc:89: tree pruning end, 14 extra nodes, 0 pruned nodes, max_depth=5\n",
      "[18:49:59] INFO: C:\\Users\\Administrator\\workspace\\xgboost-win64_release_1.0.0\\src\\tree\\updater_prune.cc:89: tree pruning end, 0 extra nodes, 0 pruned nodes, max_depth=0\n"
     ]
    },
    {
     "name": "stdout",
     "output_type": "stream",
     "text": [
      "[18:49:59] INFO: C:\\Users\\Administrator\\workspace\\xgboost-win64_release_1.0.0\\src\\tree\\updater_prune.cc:89: tree pruning end, 12 extra nodes, 0 pruned nodes, max_depth=5\n",
      "[18:50:00] INFO: C:\\Users\\Administrator\\workspace\\xgboost-win64_release_1.0.0\\src\\tree\\updater_prune.cc:89: tree pruning end, 12 extra nodes, 0 pruned nodes, max_depth=5\n",
      "[18:50:00] INFO: C:\\Users\\Administrator\\workspace\\xgboost-win64_release_1.0.0\\src\\tree\\updater_prune.cc:89: tree pruning end, 0 extra nodes, 0 pruned nodes, max_depth=0\n",
      "[18:50:00] INFO: C:\\Users\\Administrator\\workspace\\xgboost-win64_release_1.0.0\\src\\tree\\updater_prune.cc:89: tree pruning end, 12 extra nodes, 0 pruned nodes, max_depth=5\n",
      "[18:50:00] INFO: C:\\Users\\Administrator\\workspace\\xgboost-win64_release_1.0.0\\src\\tree\\updater_prune.cc:89: tree pruning end, 12 extra nodes, 0 pruned nodes, max_depth=5\n",
      "[18:50:00] INFO: C:\\Users\\Administrator\\workspace\\xgboost-win64_release_1.0.0\\src\\tree\\updater_prune.cc:89: tree pruning end, 0 extra nodes, 0 pruned nodes, max_depth=0\n",
      "[18:50:02] INFO: C:\\Users\\Administrator\\workspace\\xgboost-win64_release_1.0.0\\src\\tree\\updater_prune.cc:89: tree pruning end, 12 extra nodes, 0 pruned nodes, max_depth=5\n",
      "[18:50:04] INFO: C:\\Users\\Administrator\\workspace\\xgboost-win64_release_1.0.0\\src\\tree\\updater_prune.cc:89: tree pruning end, 12 extra nodes, 0 pruned nodes, max_depth=5\n",
      "[18:50:04] INFO: C:\\Users\\Administrator\\workspace\\xgboost-win64_release_1.0.0\\src\\tree\\updater_prune.cc:89: tree pruning end, 0 extra nodes, 0 pruned nodes, max_depth=0\n",
      "[18:50:04] INFO: C:\\Users\\Administrator\\workspace\\xgboost-win64_release_1.0.0\\src\\tree\\updater_prune.cc:89: tree pruning end, 12 extra nodes, 0 pruned nodes, max_depth=5\n",
      "[18:50:04] INFO: C:\\Users\\Administrator\\workspace\\xgboost-win64_release_1.0.0\\src\\tree\\updater_prune.cc:89: tree pruning end, 12 extra nodes, 0 pruned nodes, max_depth=5\n",
      "[18:50:04] INFO: C:\\Users\\Administrator\\workspace\\xgboost-win64_release_1.0.0\\src\\tree\\updater_prune.cc:89: tree pruning end, 0 extra nodes, 0 pruned nodes, max_depth=0\n",
      "[18:50:04] INFO: C:\\Users\\Administrator\\workspace\\xgboost-win64_release_1.0.0\\src\\tree\\updater_prune.cc:89: tree pruning end, 12 extra nodes, 0 pruned nodes, max_depth=5\n",
      "[18:50:04] INFO: C:\\Users\\Administrator\\workspace\\xgboost-win64_release_1.0.0\\src\\tree\\updater_prune.cc:89: tree pruning end, 12 extra nodes, 0 pruned nodes, max_depth=5\n",
      "[18:50:04] INFO: C:\\Users\\Administrator\\workspace\\xgboost-win64_release_1.0.0\\src\\tree\\updater_prune.cc:89: tree pruning end, 0 extra nodes, 0 pruned nodes, max_depth=0\n",
      "[18:50:04] INFO: C:\\Users\\Administrator\\workspace\\xgboost-win64_release_1.0.0\\src\\tree\\updater_prune.cc:89: tree pruning end, 12 extra nodes, 0 pruned nodes, max_depth=5\n",
      "[18:50:04] INFO: C:\\Users\\Administrator\\workspace\\xgboost-win64_release_1.0.0\\src\\tree\\updater_prune.cc:89: tree pruning end, 12 extra nodes, 0 pruned nodes, max_depth=5\n",
      "[18:50:04] INFO: C:\\Users\\Administrator\\workspace\\xgboost-win64_release_1.0.0\\src\\tree\\updater_prune.cc:89: tree pruning end, 0 extra nodes, 0 pruned nodes, max_depth=0\n",
      "[18:50:04] INFO: C:\\Users\\Administrator\\workspace\\xgboost-win64_release_1.0.0\\src\\tree\\updater_prune.cc:89: tree pruning end, 12 extra nodes, 0 pruned nodes, max_depth=5\n",
      "[18:50:05] INFO: C:\\Users\\Administrator\\workspace\\xgboost-win64_release_1.0.0\\src\\tree\\updater_prune.cc:89: tree pruning end, 10 extra nodes, 0 pruned nodes, max_depth=5\n",
      "[18:50:06] INFO: C:\\Users\\Administrator\\workspace\\xgboost-win64_release_1.0.0\\src\\tree\\updater_prune.cc:89: tree pruning end, 0 extra nodes, 0 pruned nodes, max_depth=0\n",
      "[18:50:10] INFO: C:\\Users\\Administrator\\workspace\\xgboost-win64_release_1.0.0\\src\\tree\\updater_prune.cc:89: tree pruning end, 10 extra nodes, 0 pruned nodes, max_depth=5\n",
      "[18:50:10] INFO: C:\\Users\\Administrator\\workspace\\xgboost-win64_release_1.0.0\\src\\tree\\updater_prune.cc:89: tree pruning end, 10 extra nodes, 0 pruned nodes, max_depth=5\n",
      "[18:50:10] INFO: C:\\Users\\Administrator\\workspace\\xgboost-win64_release_1.0.0\\src\\tree\\updater_prune.cc:89: tree pruning end, 0 extra nodes, 0 pruned nodes, max_depth=0\n",
      "[18:50:10] INFO: C:\\Users\\Administrator\\workspace\\xgboost-win64_release_1.0.0\\src\\tree\\updater_prune.cc:89: tree pruning end, 14 extra nodes, 0 pruned nodes, max_depth=5\n",
      "[18:50:10] INFO: C:\\Users\\Administrator\\workspace\\xgboost-win64_release_1.0.0\\src\\tree\\updater_prune.cc:89: tree pruning end, 14 extra nodes, 0 pruned nodes, max_depth=5\n",
      "[18:50:10] INFO: C:\\Users\\Administrator\\workspace\\xgboost-win64_release_1.0.0\\src\\tree\\updater_prune.cc:89: tree pruning end, 0 extra nodes, 0 pruned nodes, max_depth=0\n",
      "[18:50:10] INFO: C:\\Users\\Administrator\\workspace\\xgboost-win64_release_1.0.0\\src\\tree\\updater_prune.cc:89: tree pruning end, 12 extra nodes, 0 pruned nodes, max_depth=5\n",
      "[18:50:15] INFO: C:\\Users\\Administrator\\workspace\\xgboost-win64_release_1.0.0\\src\\tree\\updater_prune.cc:89: tree pruning end, 12 extra nodes, 0 pruned nodes, max_depth=5\n",
      "[18:50:15] INFO: C:\\Users\\Administrator\\workspace\\xgboost-win64_release_1.0.0\\src\\tree\\updater_prune.cc:89: tree pruning end, 0 extra nodes, 0 pruned nodes, max_depth=0\n",
      "[18:50:15] INFO: C:\\Users\\Administrator\\workspace\\xgboost-win64_release_1.0.0\\src\\tree\\updater_prune.cc:89: tree pruning end, 10 extra nodes, 0 pruned nodes, max_depth=5\n",
      "[18:50:15] INFO: C:\\Users\\Administrator\\workspace\\xgboost-win64_release_1.0.0\\src\\tree\\updater_prune.cc:89: tree pruning end, 10 extra nodes, 0 pruned nodes, max_depth=5\n",
      "[18:50:15] INFO: C:\\Users\\Administrator\\workspace\\xgboost-win64_release_1.0.0\\src\\tree\\updater_prune.cc:89: tree pruning end, 0 extra nodes, 0 pruned nodes, max_depth=0\n",
      "[18:50:16] INFO: C:\\Users\\Administrator\\workspace\\xgboost-win64_release_1.0.0\\src\\tree\\updater_prune.cc:89: tree pruning end, 10 extra nodes, 0 pruned nodes, max_depth=5\n",
      "[18:50:16] INFO: C:\\Users\\Administrator\\workspace\\xgboost-win64_release_1.0.0\\src\\tree\\updater_prune.cc:89: tree pruning end, 10 extra nodes, 0 pruned nodes, max_depth=5\n",
      "[18:50:16] INFO: C:\\Users\\Administrator\\workspace\\xgboost-win64_release_1.0.0\\src\\tree\\updater_prune.cc:89: tree pruning end, 0 extra nodes, 0 pruned nodes, max_depth=0\n",
      "[18:50:16] INFO: C:\\Users\\Administrator\\workspace\\xgboost-win64_release_1.0.0\\src\\tree\\updater_prune.cc:89: tree pruning end, 10 extra nodes, 0 pruned nodes, max_depth=5\n",
      "[18:50:16] INFO: C:\\Users\\Administrator\\workspace\\xgboost-win64_release_1.0.0\\src\\tree\\updater_prune.cc:89: tree pruning end, 10 extra nodes, 0 pruned nodes, max_depth=5\n",
      "[18:50:16] INFO: C:\\Users\\Administrator\\workspace\\xgboost-win64_release_1.0.0\\src\\tree\\updater_prune.cc:89: tree pruning end, 0 extra nodes, 0 pruned nodes, max_depth=0\n",
      "[18:50:16] INFO: C:\\Users\\Administrator\\workspace\\xgboost-win64_release_1.0.0\\src\\tree\\updater_prune.cc:89: tree pruning end, 14 extra nodes, 0 pruned nodes, max_depth=5\n",
      "[18:50:16] INFO: C:\\Users\\Administrator\\workspace\\xgboost-win64_release_1.0.0\\src\\tree\\updater_prune.cc:89: tree pruning end, 14 extra nodes, 0 pruned nodes, max_depth=5\n",
      "[18:50:16] INFO: C:\\Users\\Administrator\\workspace\\xgboost-win64_release_1.0.0\\src\\tree\\updater_prune.cc:89: tree pruning end, 0 extra nodes, 0 pruned nodes, max_depth=0\n",
      "[18:50:16] INFO: C:\\Users\\Administrator\\workspace\\xgboost-win64_release_1.0.0\\src\\tree\\updater_prune.cc:89: tree pruning end, 10 extra nodes, 0 pruned nodes, max_depth=5\n",
      "[18:50:16] INFO: C:\\Users\\Administrator\\workspace\\xgboost-win64_release_1.0.0\\src\\tree\\updater_prune.cc:89: tree pruning end, 10 extra nodes, 0 pruned nodes, max_depth=5\n",
      "[18:50:16] INFO: C:\\Users\\Administrator\\workspace\\xgboost-win64_release_1.0.0\\src\\tree\\updater_prune.cc:89: tree pruning end, 0 extra nodes, 0 pruned nodes, max_depth=0\n",
      "[18:50:17] INFO: C:\\Users\\Administrator\\workspace\\xgboost-win64_release_1.0.0\\src\\tree\\updater_prune.cc:89: tree pruning end, 16 extra nodes, 0 pruned nodes, max_depth=5\n",
      "[18:50:17] INFO: C:\\Users\\Administrator\\workspace\\xgboost-win64_release_1.0.0\\src\\tree\\updater_prune.cc:89: tree pruning end, 16 extra nodes, 0 pruned nodes, max_depth=5\n",
      "[18:50:17] INFO: C:\\Users\\Administrator\\workspace\\xgboost-win64_release_1.0.0\\src\\tree\\updater_prune.cc:89: tree pruning end, 0 extra nodes, 0 pruned nodes, max_depth=0\n",
      "[18:50:17] INFO: C:\\Users\\Administrator\\workspace\\xgboost-win64_release_1.0.0\\src\\tree\\updater_prune.cc:89: tree pruning end, 10 extra nodes, 0 pruned nodes, max_depth=5\n"
     ]
    },
    {
     "name": "stdout",
     "output_type": "stream",
     "text": [
      "[18:50:17] INFO: C:\\Users\\Administrator\\workspace\\xgboost-win64_release_1.0.0\\src\\tree\\updater_prune.cc:89: tree pruning end, 10 extra nodes, 0 pruned nodes, max_depth=5\n",
      "[18:50:17] INFO: C:\\Users\\Administrator\\workspace\\xgboost-win64_release_1.0.0\\src\\tree\\updater_prune.cc:89: tree pruning end, 0 extra nodes, 0 pruned nodes, max_depth=0\n",
      "[18:50:17] INFO: C:\\Users\\Administrator\\workspace\\xgboost-win64_release_1.0.0\\src\\tree\\updater_prune.cc:89: tree pruning end, 14 extra nodes, 0 pruned nodes, max_depth=5\n",
      "[18:50:17] INFO: C:\\Users\\Administrator\\workspace\\xgboost-win64_release_1.0.0\\src\\tree\\updater_prune.cc:89: tree pruning end, 14 extra nodes, 0 pruned nodes, max_depth=5\n",
      "[18:50:17] INFO: C:\\Users\\Administrator\\workspace\\xgboost-win64_release_1.0.0\\src\\tree\\updater_prune.cc:89: tree pruning end, 0 extra nodes, 0 pruned nodes, max_depth=0\n",
      "[18:50:17] INFO: C:\\Users\\Administrator\\workspace\\xgboost-win64_release_1.0.0\\src\\tree\\updater_prune.cc:89: tree pruning end, 12 extra nodes, 0 pruned nodes, max_depth=5\n",
      "[18:50:17] INFO: C:\\Users\\Administrator\\workspace\\xgboost-win64_release_1.0.0\\src\\tree\\updater_prune.cc:89: tree pruning end, 12 extra nodes, 0 pruned nodes, max_depth=5\n",
      "[18:50:17] INFO: C:\\Users\\Administrator\\workspace\\xgboost-win64_release_1.0.0\\src\\tree\\updater_prune.cc:89: tree pruning end, 0 extra nodes, 0 pruned nodes, max_depth=0\n",
      "[18:50:18] INFO: C:\\Users\\Administrator\\workspace\\xgboost-win64_release_1.0.0\\src\\tree\\updater_prune.cc:89: tree pruning end, 18 extra nodes, 0 pruned nodes, max_depth=5\n",
      "[18:50:18] INFO: C:\\Users\\Administrator\\workspace\\xgboost-win64_release_1.0.0\\src\\tree\\updater_prune.cc:89: tree pruning end, 18 extra nodes, 0 pruned nodes, max_depth=5\n",
      "[18:50:18] INFO: C:\\Users\\Administrator\\workspace\\xgboost-win64_release_1.0.0\\src\\tree\\updater_prune.cc:89: tree pruning end, 0 extra nodes, 0 pruned nodes, max_depth=0\n",
      "[18:50:18] INFO: C:\\Users\\Administrator\\workspace\\xgboost-win64_release_1.0.0\\src\\tree\\updater_prune.cc:89: tree pruning end, 12 extra nodes, 0 pruned nodes, max_depth=5\n",
      "[18:50:18] INFO: C:\\Users\\Administrator\\workspace\\xgboost-win64_release_1.0.0\\src\\tree\\updater_prune.cc:89: tree pruning end, 12 extra nodes, 0 pruned nodes, max_depth=5\n",
      "[18:50:18] INFO: C:\\Users\\Administrator\\workspace\\xgboost-win64_release_1.0.0\\src\\tree\\updater_prune.cc:89: tree pruning end, 0 extra nodes, 0 pruned nodes, max_depth=0\n",
      "[18:50:18] INFO: C:\\Users\\Administrator\\workspace\\xgboost-win64_release_1.0.0\\src\\tree\\updater_prune.cc:89: tree pruning end, 10 extra nodes, 0 pruned nodes, max_depth=5\n",
      "[18:50:18] INFO: C:\\Users\\Administrator\\workspace\\xgboost-win64_release_1.0.0\\src\\tree\\updater_prune.cc:89: tree pruning end, 10 extra nodes, 0 pruned nodes, max_depth=5\n",
      "[18:50:18] INFO: C:\\Users\\Administrator\\workspace\\xgboost-win64_release_1.0.0\\src\\tree\\updater_prune.cc:89: tree pruning end, 0 extra nodes, 0 pruned nodes, max_depth=0\n",
      "[18:50:18] INFO: C:\\Users\\Administrator\\workspace\\xgboost-win64_release_1.0.0\\src\\tree\\updater_prune.cc:89: tree pruning end, 10 extra nodes, 0 pruned nodes, max_depth=5\n",
      "[18:50:18] INFO: C:\\Users\\Administrator\\workspace\\xgboost-win64_release_1.0.0\\src\\tree\\updater_prune.cc:89: tree pruning end, 10 extra nodes, 0 pruned nodes, max_depth=5\n",
      "[18:50:18] INFO: C:\\Users\\Administrator\\workspace\\xgboost-win64_release_1.0.0\\src\\tree\\updater_prune.cc:89: tree pruning end, 0 extra nodes, 0 pruned nodes, max_depth=0\n",
      "[18:50:19] INFO: C:\\Users\\Administrator\\workspace\\xgboost-win64_release_1.0.0\\src\\tree\\updater_prune.cc:89: tree pruning end, 12 extra nodes, 0 pruned nodes, max_depth=5\n",
      "[18:50:19] INFO: C:\\Users\\Administrator\\workspace\\xgboost-win64_release_1.0.0\\src\\tree\\updater_prune.cc:89: tree pruning end, 12 extra nodes, 0 pruned nodes, max_depth=5\n",
      "[18:50:19] INFO: C:\\Users\\Administrator\\workspace\\xgboost-win64_release_1.0.0\\src\\tree\\updater_prune.cc:89: tree pruning end, 0 extra nodes, 0 pruned nodes, max_depth=0\n",
      "[18:50:19] INFO: C:\\Users\\Administrator\\workspace\\xgboost-win64_release_1.0.0\\src\\tree\\updater_prune.cc:89: tree pruning end, 12 extra nodes, 0 pruned nodes, max_depth=5\n",
      "[18:50:19] INFO: C:\\Users\\Administrator\\workspace\\xgboost-win64_release_1.0.0\\src\\tree\\updater_prune.cc:89: tree pruning end, 12 extra nodes, 0 pruned nodes, max_depth=5\n",
      "[18:50:19] INFO: C:\\Users\\Administrator\\workspace\\xgboost-win64_release_1.0.0\\src\\tree\\updater_prune.cc:89: tree pruning end, 0 extra nodes, 0 pruned nodes, max_depth=0\n",
      "[18:50:19] INFO: C:\\Users\\Administrator\\workspace\\xgboost-win64_release_1.0.0\\src\\tree\\updater_prune.cc:89: tree pruning end, 10 extra nodes, 0 pruned nodes, max_depth=5\n",
      "[18:50:19] INFO: C:\\Users\\Administrator\\workspace\\xgboost-win64_release_1.0.0\\src\\tree\\updater_prune.cc:89: tree pruning end, 10 extra nodes, 0 pruned nodes, max_depth=5\n",
      "[18:50:19] INFO: C:\\Users\\Administrator\\workspace\\xgboost-win64_release_1.0.0\\src\\tree\\updater_prune.cc:89: tree pruning end, 0 extra nodes, 0 pruned nodes, max_depth=0\n",
      "[18:50:19] INFO: C:\\Users\\Administrator\\workspace\\xgboost-win64_release_1.0.0\\src\\tree\\updater_prune.cc:89: tree pruning end, 10 extra nodes, 0 pruned nodes, max_depth=5\n",
      "[18:50:19] INFO: C:\\Users\\Administrator\\workspace\\xgboost-win64_release_1.0.0\\src\\tree\\updater_prune.cc:89: tree pruning end, 10 extra nodes, 0 pruned nodes, max_depth=5\n",
      "[18:50:20] INFO: C:\\Users\\Administrator\\workspace\\xgboost-win64_release_1.0.0\\src\\tree\\updater_prune.cc:89: tree pruning end, 0 extra nodes, 0 pruned nodes, max_depth=0\n",
      "[18:50:20] INFO: C:\\Users\\Administrator\\workspace\\xgboost-win64_release_1.0.0\\src\\tree\\updater_prune.cc:89: tree pruning end, 12 extra nodes, 0 pruned nodes, max_depth=5\n",
      "[18:50:20] INFO: C:\\Users\\Administrator\\workspace\\xgboost-win64_release_1.0.0\\src\\tree\\updater_prune.cc:89: tree pruning end, 12 extra nodes, 0 pruned nodes, max_depth=5\n",
      "[18:50:20] INFO: C:\\Users\\Administrator\\workspace\\xgboost-win64_release_1.0.0\\src\\tree\\updater_prune.cc:89: tree pruning end, 0 extra nodes, 0 pruned nodes, max_depth=0\n",
      "[18:50:20] INFO: C:\\Users\\Administrator\\workspace\\xgboost-win64_release_1.0.0\\src\\tree\\updater_prune.cc:89: tree pruning end, 10 extra nodes, 0 pruned nodes, max_depth=5\n",
      "[18:50:20] INFO: C:\\Users\\Administrator\\workspace\\xgboost-win64_release_1.0.0\\src\\tree\\updater_prune.cc:89: tree pruning end, 10 extra nodes, 0 pruned nodes, max_depth=5\n",
      "[18:50:22] INFO: C:\\Users\\Administrator\\workspace\\xgboost-win64_release_1.0.0\\src\\tree\\updater_prune.cc:89: tree pruning end, 0 extra nodes, 0 pruned nodes, max_depth=0\n",
      "[18:50:22] INFO: C:\\Users\\Administrator\\workspace\\xgboost-win64_release_1.0.0\\src\\tree\\updater_prune.cc:89: tree pruning end, 10 extra nodes, 0 pruned nodes, max_depth=5\n",
      "[18:50:22] INFO: C:\\Users\\Administrator\\workspace\\xgboost-win64_release_1.0.0\\src\\tree\\updater_prune.cc:89: tree pruning end, 10 extra nodes, 0 pruned nodes, max_depth=5\n",
      "[18:50:22] INFO: C:\\Users\\Administrator\\workspace\\xgboost-win64_release_1.0.0\\src\\tree\\updater_prune.cc:89: tree pruning end, 0 extra nodes, 0 pruned nodes, max_depth=0\n",
      "[18:50:22] INFO: C:\\Users\\Administrator\\workspace\\xgboost-win64_release_1.0.0\\src\\tree\\updater_prune.cc:89: tree pruning end, 12 extra nodes, 0 pruned nodes, max_depth=5\n",
      "[18:50:22] INFO: C:\\Users\\Administrator\\workspace\\xgboost-win64_release_1.0.0\\src\\tree\\updater_prune.cc:89: tree pruning end, 12 extra nodes, 0 pruned nodes, max_depth=5\n",
      "[18:50:22] INFO: C:\\Users\\Administrator\\workspace\\xgboost-win64_release_1.0.0\\src\\tree\\updater_prune.cc:89: tree pruning end, 0 extra nodes, 0 pruned nodes, max_depth=0\n",
      "[18:50:22] INFO: C:\\Users\\Administrator\\workspace\\xgboost-win64_release_1.0.0\\src\\tree\\updater_prune.cc:89: tree pruning end, 12 extra nodes, 0 pruned nodes, max_depth=5\n",
      "[18:50:22] INFO: C:\\Users\\Administrator\\workspace\\xgboost-win64_release_1.0.0\\src\\tree\\updater_prune.cc:89: tree pruning end, 12 extra nodes, 0 pruned nodes, max_depth=5\n",
      "[18:50:22] INFO: C:\\Users\\Administrator\\workspace\\xgboost-win64_release_1.0.0\\src\\tree\\updater_prune.cc:89: tree pruning end, 0 extra nodes, 0 pruned nodes, max_depth=0\n",
      "[18:50:22] INFO: C:\\Users\\Administrator\\workspace\\xgboost-win64_release_1.0.0\\src\\tree\\updater_prune.cc:89: tree pruning end, 12 extra nodes, 0 pruned nodes, max_depth=5\n",
      "[18:50:23] INFO: C:\\Users\\Administrator\\workspace\\xgboost-win64_release_1.0.0\\src\\tree\\updater_prune.cc:89: tree pruning end, 12 extra nodes, 0 pruned nodes, max_depth=5\n",
      "[18:50:23] INFO: C:\\Users\\Administrator\\workspace\\xgboost-win64_release_1.0.0\\src\\tree\\updater_prune.cc:89: tree pruning end, 0 extra nodes, 0 pruned nodes, max_depth=0\n",
      "[18:50:23] INFO: C:\\Users\\Administrator\\workspace\\xgboost-win64_release_1.0.0\\src\\tree\\updater_prune.cc:89: tree pruning end, 12 extra nodes, 0 pruned nodes, max_depth=5\n"
     ]
    },
    {
     "name": "stdout",
     "output_type": "stream",
     "text": [
      "[18:50:23] INFO: C:\\Users\\Administrator\\workspace\\xgboost-win64_release_1.0.0\\src\\tree\\updater_prune.cc:89: tree pruning end, 12 extra nodes, 0 pruned nodes, max_depth=5\n",
      "[18:50:23] INFO: C:\\Users\\Administrator\\workspace\\xgboost-win64_release_1.0.0\\src\\tree\\updater_prune.cc:89: tree pruning end, 0 extra nodes, 0 pruned nodes, max_depth=0\n",
      "[18:50:23] INFO: C:\\Users\\Administrator\\workspace\\xgboost-win64_release_1.0.0\\src\\tree\\updater_prune.cc:89: tree pruning end, 10 extra nodes, 0 pruned nodes, max_depth=5\n",
      "[18:50:23] INFO: C:\\Users\\Administrator\\workspace\\xgboost-win64_release_1.0.0\\src\\tree\\updater_prune.cc:89: tree pruning end, 10 extra nodes, 0 pruned nodes, max_depth=5\n",
      "[18:50:23] INFO: C:\\Users\\Administrator\\workspace\\xgboost-win64_release_1.0.0\\src\\tree\\updater_prune.cc:89: tree pruning end, 0 extra nodes, 0 pruned nodes, max_depth=0\n",
      "[18:50:23] INFO: C:\\Users\\Administrator\\workspace\\xgboost-win64_release_1.0.0\\src\\tree\\updater_prune.cc:89: tree pruning end, 10 extra nodes, 0 pruned nodes, max_depth=5\n",
      "[18:50:23] INFO: C:\\Users\\Administrator\\workspace\\xgboost-win64_release_1.0.0\\src\\tree\\updater_prune.cc:89: tree pruning end, 10 extra nodes, 0 pruned nodes, max_depth=5\n",
      "[18:50:23] INFO: C:\\Users\\Administrator\\workspace\\xgboost-win64_release_1.0.0\\src\\tree\\updater_prune.cc:89: tree pruning end, 0 extra nodes, 0 pruned nodes, max_depth=0\n",
      "[18:50:23] INFO: C:\\Users\\Administrator\\workspace\\xgboost-win64_release_1.0.0\\src\\tree\\updater_prune.cc:89: tree pruning end, 10 extra nodes, 0 pruned nodes, max_depth=5\n",
      "[18:50:24] INFO: C:\\Users\\Administrator\\workspace\\xgboost-win64_release_1.0.0\\src\\tree\\updater_prune.cc:89: tree pruning end, 10 extra nodes, 0 pruned nodes, max_depth=5\n",
      "[18:50:24] INFO: C:\\Users\\Administrator\\workspace\\xgboost-win64_release_1.0.0\\src\\tree\\updater_prune.cc:89: tree pruning end, 0 extra nodes, 0 pruned nodes, max_depth=0\n",
      "[18:50:24] INFO: C:\\Users\\Administrator\\workspace\\xgboost-win64_release_1.0.0\\src\\tree\\updater_prune.cc:89: tree pruning end, 12 extra nodes, 0 pruned nodes, max_depth=5\n",
      "[18:50:24] INFO: C:\\Users\\Administrator\\workspace\\xgboost-win64_release_1.0.0\\src\\tree\\updater_prune.cc:89: tree pruning end, 12 extra nodes, 0 pruned nodes, max_depth=5\n",
      "[18:50:24] INFO: C:\\Users\\Administrator\\workspace\\xgboost-win64_release_1.0.0\\src\\tree\\updater_prune.cc:89: tree pruning end, 0 extra nodes, 0 pruned nodes, max_depth=0\n",
      "[18:50:24] INFO: C:\\Users\\Administrator\\workspace\\xgboost-win64_release_1.0.0\\src\\tree\\updater_prune.cc:89: tree pruning end, 10 extra nodes, 0 pruned nodes, max_depth=5\n",
      "[18:50:24] INFO: C:\\Users\\Administrator\\workspace\\xgboost-win64_release_1.0.0\\src\\tree\\updater_prune.cc:89: tree pruning end, 10 extra nodes, 0 pruned nodes, max_depth=5\n",
      "[18:50:24] INFO: C:\\Users\\Administrator\\workspace\\xgboost-win64_release_1.0.0\\src\\tree\\updater_prune.cc:89: tree pruning end, 0 extra nodes, 0 pruned nodes, max_depth=0\n",
      "[18:50:24] INFO: C:\\Users\\Administrator\\workspace\\xgboost-win64_release_1.0.0\\src\\tree\\updater_prune.cc:89: tree pruning end, 12 extra nodes, 0 pruned nodes, max_depth=5\n",
      "[18:50:24] INFO: C:\\Users\\Administrator\\workspace\\xgboost-win64_release_1.0.0\\src\\tree\\updater_prune.cc:89: tree pruning end, 12 extra nodes, 0 pruned nodes, max_depth=5\n",
      "[18:50:24] INFO: C:\\Users\\Administrator\\workspace\\xgboost-win64_release_1.0.0\\src\\tree\\updater_prune.cc:89: tree pruning end, 0 extra nodes, 0 pruned nodes, max_depth=0\n",
      "[18:50:25] INFO: C:\\Users\\Administrator\\workspace\\xgboost-win64_release_1.0.0\\src\\tree\\updater_prune.cc:89: tree pruning end, 10 extra nodes, 0 pruned nodes, max_depth=5\n",
      "[18:50:25] INFO: C:\\Users\\Administrator\\workspace\\xgboost-win64_release_1.0.0\\src\\tree\\updater_prune.cc:89: tree pruning end, 10 extra nodes, 0 pruned nodes, max_depth=5\n",
      "[18:50:25] INFO: C:\\Users\\Administrator\\workspace\\xgboost-win64_release_1.0.0\\src\\tree\\updater_prune.cc:89: tree pruning end, 0 extra nodes, 0 pruned nodes, max_depth=0\n",
      "[18:50:25] INFO: C:\\Users\\Administrator\\workspace\\xgboost-win64_release_1.0.0\\src\\tree\\updater_prune.cc:89: tree pruning end, 10 extra nodes, 0 pruned nodes, max_depth=5\n",
      "[18:50:25] INFO: C:\\Users\\Administrator\\workspace\\xgboost-win64_release_1.0.0\\src\\tree\\updater_prune.cc:89: tree pruning end, 10 extra nodes, 0 pruned nodes, max_depth=5\n",
      "[18:50:25] INFO: C:\\Users\\Administrator\\workspace\\xgboost-win64_release_1.0.0\\src\\tree\\updater_prune.cc:89: tree pruning end, 0 extra nodes, 0 pruned nodes, max_depth=0\n",
      "[18:50:25] INFO: C:\\Users\\Administrator\\workspace\\xgboost-win64_release_1.0.0\\src\\tree\\updater_prune.cc:89: tree pruning end, 10 extra nodes, 0 pruned nodes, max_depth=5\n",
      "[18:50:25] INFO: C:\\Users\\Administrator\\workspace\\xgboost-win64_release_1.0.0\\src\\tree\\updater_prune.cc:89: tree pruning end, 10 extra nodes, 0 pruned nodes, max_depth=5\n",
      "[18:50:25] INFO: C:\\Users\\Administrator\\workspace\\xgboost-win64_release_1.0.0\\src\\tree\\updater_prune.cc:89: tree pruning end, 0 extra nodes, 0 pruned nodes, max_depth=0\n",
      "[18:50:25] INFO: C:\\Users\\Administrator\\workspace\\xgboost-win64_release_1.0.0\\src\\tree\\updater_prune.cc:89: tree pruning end, 10 extra nodes, 0 pruned nodes, max_depth=5\n",
      "[18:50:25] INFO: C:\\Users\\Administrator\\workspace\\xgboost-win64_release_1.0.0\\src\\tree\\updater_prune.cc:89: tree pruning end, 10 extra nodes, 0 pruned nodes, max_depth=5\n",
      "[18:50:25] INFO: C:\\Users\\Administrator\\workspace\\xgboost-win64_release_1.0.0\\src\\tree\\updater_prune.cc:89: tree pruning end, 0 extra nodes, 0 pruned nodes, max_depth=0\n",
      "[18:50:26] INFO: C:\\Users\\Administrator\\workspace\\xgboost-win64_release_1.0.0\\src\\tree\\updater_prune.cc:89: tree pruning end, 12 extra nodes, 0 pruned nodes, max_depth=5\n",
      "[18:50:26] INFO: C:\\Users\\Administrator\\workspace\\xgboost-win64_release_1.0.0\\src\\tree\\updater_prune.cc:89: tree pruning end, 12 extra nodes, 0 pruned nodes, max_depth=5\n",
      "[18:50:26] INFO: C:\\Users\\Administrator\\workspace\\xgboost-win64_release_1.0.0\\src\\tree\\updater_prune.cc:89: tree pruning end, 0 extra nodes, 0 pruned nodes, max_depth=0\n",
      "[18:50:26] INFO: C:\\Users\\Administrator\\workspace\\xgboost-win64_release_1.0.0\\src\\tree\\updater_prune.cc:89: tree pruning end, 12 extra nodes, 0 pruned nodes, max_depth=5\n",
      "[18:50:26] INFO: C:\\Users\\Administrator\\workspace\\xgboost-win64_release_1.0.0\\src\\tree\\updater_prune.cc:89: tree pruning end, 12 extra nodes, 0 pruned nodes, max_depth=5\n",
      "[18:50:26] INFO: C:\\Users\\Administrator\\workspace\\xgboost-win64_release_1.0.0\\src\\tree\\updater_prune.cc:89: tree pruning end, 0 extra nodes, 0 pruned nodes, max_depth=0\n",
      "[18:50:26] INFO: C:\\Users\\Administrator\\workspace\\xgboost-win64_release_1.0.0\\src\\tree\\updater_prune.cc:89: tree pruning end, 10 extra nodes, 0 pruned nodes, max_depth=5\n",
      "[18:50:26] INFO: C:\\Users\\Administrator\\workspace\\xgboost-win64_release_1.0.0\\src\\tree\\updater_prune.cc:89: tree pruning end, 10 extra nodes, 0 pruned nodes, max_depth=5\n",
      "[18:50:26] INFO: C:\\Users\\Administrator\\workspace\\xgboost-win64_release_1.0.0\\src\\tree\\updater_prune.cc:89: tree pruning end, 0 extra nodes, 0 pruned nodes, max_depth=0\n",
      "[18:50:26] INFO: C:\\Users\\Administrator\\workspace\\xgboost-win64_release_1.0.0\\src\\tree\\updater_prune.cc:89: tree pruning end, 10 extra nodes, 0 pruned nodes, max_depth=5\n",
      "[18:50:26] INFO: C:\\Users\\Administrator\\workspace\\xgboost-win64_release_1.0.0\\src\\tree\\updater_prune.cc:89: tree pruning end, 10 extra nodes, 0 pruned nodes, max_depth=5\n",
      "[18:50:26] INFO: C:\\Users\\Administrator\\workspace\\xgboost-win64_release_1.0.0\\src\\tree\\updater_prune.cc:89: tree pruning end, 0 extra nodes, 0 pruned nodes, max_depth=0\n",
      "[18:50:27] INFO: C:\\Users\\Administrator\\workspace\\xgboost-win64_release_1.0.0\\src\\tree\\updater_prune.cc:89: tree pruning end, 12 extra nodes, 0 pruned nodes, max_depth=5\n",
      "[18:50:27] INFO: C:\\Users\\Administrator\\workspace\\xgboost-win64_release_1.0.0\\src\\tree\\updater_prune.cc:89: tree pruning end, 12 extra nodes, 0 pruned nodes, max_depth=5\n",
      "[18:50:27] INFO: C:\\Users\\Administrator\\workspace\\xgboost-win64_release_1.0.0\\src\\tree\\updater_prune.cc:89: tree pruning end, 0 extra nodes, 0 pruned nodes, max_depth=0\n"
     ]
    },
    {
     "data": {
      "text/plain": [
       "GridSearchCV(cv=5, error_score=nan,\n",
       "             estimator=XGBClassifier(base_score=None, booster=None,\n",
       "                                     colsample_bylevel=None,\n",
       "                                     colsample_bynode=None,\n",
       "                                     colsample_bytree=None, gamma=None,\n",
       "                                     gpu_id=None, importance_type='gain',\n",
       "                                     interaction_constraints=None,\n",
       "                                     learning_rate=None, max_delta_step=None,\n",
       "                                     max_depth=None, min_child_weight=None,\n",
       "                                     missing=nan, monotone_constraints=None,\n",
       "                                     n_estim...\n",
       "                                     subsample=None, tree_method=None,\n",
       "                                     validate_parameters=False,\n",
       "                                     verbosity=None),\n",
       "             iid='deprecated', n_jobs=-1,\n",
       "             param_grid={'eval_metric': ['merror', 'aucpr', 'auc'],\n",
       "                         'learning_rate': [0.01, 0.05, 0.1, 0.5, 1],\n",
       "                         'max_depth': [2, 3, 4, 5, 6, 7, 25, 40, 1000],\n",
       "                         'num_class': [3], 'objective': ['multi:softmax'],\n",
       "                         'verbosity': [2]},\n",
       "             pre_dispatch='2*n_jobs', refit=True, return_train_score=False,\n",
       "             scoring='precision', verbose=2)"
      ]
     },
     "execution_count": 218,
     "metadata": {},
     "output_type": "execute_result"
    }
   ],
   "source": [
    "xgb_model = xgb.XGBClassifier()\n",
    "\n",
    "param = {'max_depth': [2,3,4,5,6,7,25,40,1000], \n",
    "         'learning_rate': [0.01,0.05,0.1,0.5,1], \n",
    "         'verbosity': [2], \n",
    "         'objective': ['multi:softmax'], \n",
    "         'num_class': [3], \n",
    "         'eval_metric': ['merror','aucpr','auc']}\n",
    "\n",
    "clf = GridSearchCV(xgb_model, param, n_jobs=-1, cv=5, scoring='precision', verbose=2, refit=True)\n",
    "\n",
    "clf.fit(x_train, y_train)"
   ]
  },
  {
   "cell_type": "code",
   "execution_count": 222,
   "metadata": {},
   "outputs": [
    {
     "data": {
      "text/plain": [
       "array([[845,  13],\n",
       "       [  6, 282]], dtype=int64)"
      ]
     },
     "execution_count": 222,
     "metadata": {},
     "output_type": "execute_result"
    }
   ],
   "source": [
    "y_pred = clf.predict(x_test)\n",
    "confusion_matrix(y_test, y_pred)"
   ]
  },
  {
   "cell_type": "markdown",
   "metadata": {},
   "source": [
    "## 6. Classifying emails i received"
   ]
  },
  {
   "cell_type": "markdown",
   "metadata": {},
   "source": [
    "<p style=\"font-family:'Courier New'\"> <font size = 3>I choose 4 emails, email1 (Not Spam), email2 and email3 (Spam) and email4(Not spam)"
   ]
  },
  {
   "cell_type": "code",
   "execution_count": 275,
   "metadata": {},
   "outputs": [],
   "source": [
    "email1 = (\"Estuda.com ENEM Hello, You haven't studied at Estuda.com ENEM for 28 days, don't miss a beat.\" \n",
    "\"Continue your preparation with The biggest questions site for ENEM and Vestibular in Brazil.\"\n",
    "\"Prepare yourself by answering tests or study through simulations\"\n",
    "\"Go back to Estuda.com ENEM and continue studying.\"\n",
    "'Access now https: //app.estuda.com/'\n",
    "\n",
    "\"P.S .: Did you miss something on our platform, help us by participating in our quick survey\")\n",
    "email2 = (\"EASY CREDIT WITH THE BEST\"\n",
    "'MARKET FEES'\n",
    "'The personal loan has numerous advantages. In addition to having quick release,' \n",
    "'compared to overdraft, the rates are much more attractive. Whoever has a compromised'\n",
    "'name can also withdraw the money. Doing a simulation now, we put you in touch with one of our loan partners.'\n",
    "'I want money now'\n",
    "'WITHOUT BUROCRACY I want money now'\n",
    "'LOWER RATES I want money now'\n",
    "'100% ONLINE'\n",
    "'SIMULATE')\n",
    "\n",
    "email3 = ('Header-30Days-2'\n",
    "'Hello, how are you?'\n",
    "\n",
    "'We are living in difficult times and the best thing to do at'\n",
    "'that moment is to take care of your health and prepare yourself at home for when all this is over.'\n",
    "\n",
    "'Our platform has more than 1250 online courses * with a certificate recognized and valid throughout Brazil *.'\n",
    "\n",
    "'Want to know * what courses we have? * See here: PreparaTOS ALL Courses'\n",
    "\n",
    "\"And believe me, * it's not a prank *.\"\n",
    "\n",
    "'After 30 days, cancellation is free and automatic.'\n",
    "\n",
    "'You only pay the monthly fee if you like it and want to continue using it.'\n",
    "\n",
    "\n",
    "'Would you like to start your * 30 days FREE OF CHARGE * now?')\n",
    "\n",
    "email4 = ('Medium Logo Stories for Today’s highlights This Is How Much YouTube Paid Me for My 1,000,000 Viewed Video'\n",
    "'Here is the answer to the question that everyone asks me'\n",
    "'Shelby Church in OneZeroMember only content5 min read'\n",
    "'Coronavirus Made a Big Mistake Invading the Greatest Goddamn Country on Earth'\n",
    "'If the ’rona didn’t want a roundhouse kick to the face, it should have stayed the eff out of ‘Merica'\n",
    "'Drew Magary in GENMember only content5 min read'\n",
    "'How to Get a Job with Python'\n",
    "'It is a simple use of Python, you do not need any specific skills to do this with me. We will go step by step…'\n",
    "'Lazar Gugleta in Towards Data ScienceMember only content7 min read'\n",
    "'The End of the Pandemic Is Nearly Here'\n",
    "'So what does the end of the pandemic look like?'\n",
    "'Tim Denning in Mind CafeMember only content4 min read'\n",
    "'Quick reads'\n",
    "'Mid-30s Vs. Mid-20s Millennial Men'\n",
    "'It takes a while, but change eventually happens.'\n",
    "'Andrew Hutchinson in SlackjawMember only content2 min read'\n",
    "'TypeScript Antipatterns to Avoid'\n",
    "'We should avoid anti-patterns by using TypeScript’s type inference capabilities.'\n",
    "'John Au-Yeung in Level Up CodingMember only content4 min read'\n",
    "'The Virus vs The Virus:'\n",
    "'A Trump Twitter Timeline'\n",
    "'Dave PellMember only content2 min read'\n",
    "'Most read'\n",
    "'Being a Telemarketer Saved My Life'\n",
    "'Cold-calling 800 people a day gives you a rare window into human nature'\n",
    "'Alex C. Bonesteel in Human PartsMember only content13 min read'\n",
    ")\n",
    "\n",
    "test2 = pd.DataFrame([email1,email2,email3,email4], columns=[\"text\"])"
   ]
  },
  {
   "cell_type": "code",
   "execution_count": 308,
   "metadata": {},
   "outputs": [],
   "source": [
    "test2 = pd.concat([df,test2])\n",
    "test2 = test2.reset_index(drop=True)\n",
    "x_test2 = pipeline.transform(pd.DataFrame([email1,email2,email3,email4], columns=[\"text\"]))"
   ]
  },
  {
   "cell_type": "code",
   "execution_count": 309,
   "metadata": {},
   "outputs": [
    {
     "data": {
      "text/plain": [
       "array([0, 1, 1, 0], dtype=int64)"
      ]
     },
     "execution_count": 309,
     "metadata": {},
     "output_type": "execute_result"
    }
   ],
   "source": [
    "svc = SVC(C=10, break_ties=False, cache_size=200, class_weight=None, coef0=0.0,\n",
    "    decision_function_shape='ovr', degree=2, gamma='scale', kernel='rbf',\n",
    "    max_iter=-1, probability=True, random_state=None, shrinking=True,\n",
    "    tol=0.001, verbose=False)\n",
    "svc.fit(x_train, y_train)\n",
    "svc.predict(x_test2)"
   ]
  },
  {
   "cell_type": "markdown",
   "metadata": {},
   "source": [
    "Look, its how we proposed!!!!!\n",
    "\n",
    "\n",
    "But, lets build some application to someone test if the emails si a ham or a spam"
   ]
  },
  {
   "cell_type": "code",
   "execution_count": null,
   "metadata": {},
   "outputs": [],
   "source": []
  }
 ],
 "metadata": {
  "kernelspec": {
   "display_name": "Python 3",
   "language": "python",
   "name": "python3"
  },
  "language_info": {
   "codemirror_mode": {
    "name": "ipython",
    "version": 3
   },
   "file_extension": ".py",
   "mimetype": "text/x-python",
   "name": "python",
   "nbconvert_exporter": "python",
   "pygments_lexer": "ipython3",
   "version": "3.7.6"
  }
 },
 "nbformat": 4,
 "nbformat_minor": 4
}
